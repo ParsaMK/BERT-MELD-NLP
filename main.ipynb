{
  "cells": [
    {
      "cell_type": "markdown",
      "metadata": {
        "id": "XZeIDG12X9mi"
      },
      "source": [
        "# Final Projects"
      ]
    },
    {
      "cell_type": "markdown",
      "metadata": {
        "id": "-SNvkdAlYGb3"
      },
      "source": [
        "### **Team members:**\n",
        "#### Mirco Lescart\n",
        "#### Freddy Fernandes\n",
        "#### Parsa Mastouri Kashani\n",
        "#### Arina Sadeghi Khiabanian"
      ]
    },
    {
      "cell_type": "markdown",
      "metadata": {
        "collapsed": false,
        "id": "IWf2TLljNi3a"
      },
      "source": [
        "# Libraries"
      ]
    },
    {
      "cell_type": "markdown",
      "metadata": {
        "id": "eWlcnQDyYKXv"
      },
      "source": [
        "In the first step of the project,we installed some libraries."
      ]
    },
    {
      "cell_type": "code",
      "execution_count": null,
      "metadata": {
        "colab": {
          "base_uri": "https://localhost:8080/"
        },
        "id": "uUoWJYd7QecM",
        "outputId": "9cf84529-9ddc-40e6-e8c4-bdea6d2a35a4"
      },
      "outputs": [
        {
          "output_type": "stream",
          "name": "stdout",
          "text": [
            "Collecting mlcm\n",
            "  Downloading mlcm-0.0.1-py3-none-any.whl (8.7 kB)\n",
            "Requirement already satisfied: numpy in /usr/local/lib/python3.10/dist-packages (from mlcm) (1.25.2)\n",
            "Installing collected packages: mlcm\n",
            "Successfully installed mlcm-0.0.1\n"
          ]
        }
      ],
      "source": [
        "# Installing the transformers library and additional libraries if looking process\n",
        "!pip install -q transformers\n",
        "!pip install mlcm"
      ]
    },
    {
      "cell_type": "code",
      "execution_count": null,
      "metadata": {
        "id": "R1V3mLRhJu53"
      },
      "outputs": [],
      "source": [
        "# Importing stock ml libraries\n",
        "import numpy as np\n",
        "import pandas as pd\n",
        "import matplotlib.pyplot as plt\n",
        "from sklearn import metrics\n",
        "import transformers\n",
        "import torch\n",
        "from torch.utils.data import Dataset, DataLoader, RandomSampler, SequentialSampler\n",
        "from torch.optim import lr_scheduler\n",
        "from transformers import AutoModel, AutoTokenizer, get_linear_schedule_with_warmup\n",
        "from sklearn.metrics import classification_report, accuracy_score, f1_score\n",
        "from sklearn.utils.class_weight import compute_class_weight\n",
        "from tqdm import tqdm"
      ]
    },
    {
      "cell_type": "markdown",
      "metadata": {
        "collapsed": false,
        "id": "19nlBR-xNi3c"
      },
      "source": [
        "# Settings"
      ]
    },
    {
      "cell_type": "markdown",
      "metadata": {
        "id": "9LVvWVt43Oq2"
      },
      "source": [
        "As mentioned in the project FAQ, we also implemented 5 different random seeds for our project.we tried seed number 42, 123, 456, 789, 1000."
      ]
    },
    {
      "cell_type": "code",
      "execution_count": null,
      "metadata": {
        "id": "-yeexOotJyDK"
      },
      "outputs": [],
      "source": [
        "# Random seed to repeat experiments.\n",
        "RANDOM_SEED = 123\n",
        "transformers.set_seed(RANDOM_SEED)\n",
        "torch.manual_seed(RANDOM_SEED)\n",
        "np.random.seed(RANDOM_SEED)"
      ]
    },
    {
      "cell_type": "markdown",
      "metadata": {
        "id": "IOh0yVBv3Wcr"
      },
      "source": [
        "In this step,we defined the pre-trained model, maximum sequence lengths, batch sizes, epochs, learning rate, and tokenizer instantiation for tokenizing input data to establish the groundwork for efficient training and processing of textual inputs with the BERT-based model."
      ]
    },
    {
      "cell_type": "code",
      "execution_count": null,
      "metadata": {
        "colab": {
          "base_uri": "https://localhost:8080/",
          "height": 81,
          "referenced_widgets": [
            "dd3ff511ab424eeba625af28f35ae239",
            "058044b3e91d45b3886c5ccf3a7fe71e",
            "41fd9bdf8caf4f64b4d924d1c53e6287",
            "7f1f8bd6a12d4abea4ac205a5bd1effb",
            "5d6b9a35e8f440f689594c33419c0b43",
            "75b6daaec8d2400d9c8feddc3cce2fd1",
            "ebdc477ba1ff4e9c84920f5f68930258",
            "602067f86dff4495997fe1b6518b2396",
            "136a2590654d4db6bca916ea795fe370",
            "ddd2d6bed5954ef2b230e3c93d08e978",
            "8490517a28794084ae5d43ac7b24d7a7",
            "cb9c48f8c69d4dd78bb15adabc62d168",
            "001fb03765d04831a7933b88b1222885",
            "0afb31e96f0a45e48e850df699b21488",
            "1d5a1fbdd0e6484d840f5a3fd8415c87",
            "61f03500b8ef48f49f264cbd0e8b1ccd",
            "314cb6e6cd8245f19bdd06f0d25011b7",
            "a5f5c0784efe4359b7602c4f0d4fba3f",
            "10759098fc394c8483ec4e20fbaa7c7d",
            "c8ed21d87c49450393e330df98dbb51e",
            "97534fbe4ef748db8fe8ac78b11d1b79",
            "cab5458e83c64d23bf21fda2ff10a709"
          ]
        },
        "id": "4xslvFoQJ0CP",
        "outputId": "1c0497a6-d90f-47cb-82d7-cb7401e81707"
      },
      "outputs": [
        {
          "output_type": "display_data",
          "data": {
            "text/plain": [
              "config.json:   0%|          | 0.00/285 [00:00<?, ?B/s]"
            ],
            "application/vnd.jupyter.widget-view+json": {
              "version_major": 2,
              "version_minor": 0,
              "model_id": "dd3ff511ab424eeba625af28f35ae239"
            }
          },
          "metadata": {}
        },
        {
          "output_type": "display_data",
          "data": {
            "text/plain": [
              "vocab.txt:   0%|          | 0.00/232k [00:00<?, ?B/s]"
            ],
            "application/vnd.jupyter.widget-view+json": {
              "version_major": 2,
              "version_minor": 0,
              "model_id": "cb9c48f8c69d4dd78bb15adabc62d168"
            }
          },
          "metadata": {}
        }
      ],
      "source": [
        "#card_name = 'bert-base-uncased'\n",
        "card_name = 'prajjwal1/bert-tiny'\n",
        "MAX_LEN_EMO = 300\n",
        "MAX_LEN_TRI = 512\n",
        "BATCH_SIZE = 1\n",
        "EMO_EPOCHS = 5\n",
        "TRI_EPOCHS = 1\n",
        "LEARNING_RATE = 2e-05\n",
        "TRAIN_BATCH_SIZE = 1\n",
        "VALID_BATCH_SIZE = 1\n",
        "tokenizer = AutoTokenizer.from_pretrained(card_name)"
      ]
    },
    {
      "cell_type": "code",
      "execution_count": null,
      "metadata": {
        "colab": {
          "base_uri": "https://localhost:8080/"
        },
        "id": "YmuBSiPFJ0xs",
        "outputId": "525c6d3a-322a-469c-e6d7-fc2ed3f23a21"
      },
      "outputs": [
        {
          "output_type": "stream",
          "name": "stdout",
          "text": [
            "Using cuda.\n"
          ]
        }
      ],
      "source": [
        "# Setting up the device for GPU usage\n",
        "from torch import cuda\n",
        "device = 'cuda' if cuda.is_available() else 'cpu'\n",
        "print(f'Using {device}.')"
      ]
    },
    {
      "cell_type": "markdown",
      "metadata": {
        "collapsed": false,
        "id": "8ZpeOSvzNi3d"
      },
      "source": [
        "# Importing and Preprocessing the data"
      ]
    },
    {
      "cell_type": "markdown",
      "metadata": {
        "id": "H1V9J0xY3Z_d"
      },
      "source": [
        "In this cell of code,we converted our JSON formatted file into a Pandas DataFrame, and then removed the 'episode' column to prepare the data for further processing or analysis."
      ]
    },
    {
      "cell_type": "code",
      "execution_count": null,
      "metadata": {
        "id": "KQn6NII7J2-t"
      },
      "outputs": [],
      "source": [
        "import pandas as pd\n",
        "import json\n",
        "\n",
        "# Specify the path to your JSON file\n",
        "json_file_path = 'MELD_train_efr.json'  # Replace with your file path\n",
        "\n",
        "# Open the file and load the JSON data\n",
        "with open(json_file_path, 'r') as file:\n",
        "    data = json.load(file)\n",
        "\n",
        "# Convert the JSON data to a Pandas DataFrame\n",
        "df = pd.json_normalize(data)\n",
        "\n",
        "# Now 'df' is a Pandas DataFrame containing the JSON data\n",
        "df.drop('episode', axis=1, inplace=True)"
      ]
    },
    {
      "cell_type": "markdown",
      "metadata": {
        "id": "8TxomE043hLI"
      },
      "source": [
        "As it was mentioned in the project FAQ, there are some NaN in the data set so we should replace them with 0.0 within lists."
      ]
    },
    {
      "cell_type": "code",
      "execution_count": null,
      "metadata": {
        "colab": {
          "base_uri": "https://localhost:8080/"
        },
        "id": "_kmoZ13BJ-sE",
        "outputId": "d3b2d2f1-1f8a-4f38-9145-0b9f9c81492e"
      },
      "outputs": [
        {
          "output_type": "execute_result",
          "data": {
            "text/plain": [
              "array([0, 1], dtype=object)"
            ]
          },
          "metadata": {},
          "execution_count": 8
        }
      ],
      "source": [
        "# Function to replace NaN with 0.0 in a list\n",
        "def replace_nan_with_zero_list(lst):\n",
        "    return [0.0 if pd.isna(x) else x for x in lst]\n",
        "\n",
        "# Applying the function to the specified column\n",
        "df['triggers'] = df['triggers'].apply(lambda x: replace_nan_with_zero_list(x))\n",
        "\n",
        "# Convert each element in the lists to integers\n",
        "df['triggers'] = df['triggers'].apply(lambda x: [int(i) for i in x])\n",
        "\n",
        "df['triggers'].explode().unique()"
      ]
    },
    {
      "cell_type": "markdown",
      "metadata": {
        "id": "ufE1ydJf3khd"
      },
      "source": [
        "Splitting the dataset into training, validation, and test sets using the train_test_split function from scikit-learn."
      ]
    },
    {
      "cell_type": "code",
      "execution_count": null,
      "metadata": {
        "id": "1Dj0SU5vKC6x"
      },
      "outputs": [],
      "source": [
        "import pandas as pd\n",
        "from sklearn.model_selection import train_test_split\n",
        "\n",
        "# Step 1: Split into training and temporary set (temp_set)\n",
        "df_temp, df_test = train_test_split(df, test_size=0.1)\n",
        "\n",
        "# Step 2: Split temp_set into training and validation sets\n",
        "df_train, df_validation = train_test_split(df_temp, test_size=1/9)"
      ]
    },
    {
      "cell_type": "code",
      "execution_count": null,
      "metadata": {
        "colab": {
          "base_uri": "https://localhost:8080/"
        },
        "id": "C3tcuvy_J6BK",
        "outputId": "48d88ebb-07f8-47fd-96af-23ec0897178a"
      },
      "outputs": [
        {
          "output_type": "stream",
          "name": "stdout",
          "text": [
            "{0: 'neutral', 1: 'surprise', 2: 'fear', 3: 'sadness', 4: 'joy', 5: 'disgust', 6: 'anger'}\n"
          ]
        }
      ],
      "source": [
        "emotions = df['emotions'].explode().unique()\n",
        "\n",
        "# Create a mapping from item to number\n",
        "emotion_item_to_number = {item: number for number, item in enumerate(emotions)}\n",
        "\n",
        "# Create a mapping from number to item\n",
        "emotion_number_to_item = {number: item for number, item in enumerate(emotions)}\n",
        "\n",
        "print(emotion_number_to_item)\n",
        "\n",
        "emotion_number_to_one_hot = { 0: [1,0,0,0,0,0,0],\n",
        "                              1: [0,1,0,0,0,0,0],\n",
        "                              2: [0,0,1,0,0,0,0],\n",
        "                              3: [0,0,0,1,0,0,0],\n",
        "                              4: [0,0,0,0,1,0,0],\n",
        "                              5: [0,0,0,0,0,1,0],\n",
        "                              6: [0,0,0,0,0,0,1]}\n",
        "\n",
        "one_hot_to_emotion_number = lambda one_hot : np.where(one_hot)[0]"
      ]
    },
    {
      "cell_type": "markdown",
      "metadata": {
        "id": "b7D_jAmJHdWS"
      },
      "source": [
        "### making data extenders for utterances, emotions and triggers"
      ]
    },
    {
      "cell_type": "code",
      "execution_count": null,
      "metadata": {
        "id": "IBl-4V0OVT08"
      },
      "outputs": [],
      "source": [
        "def dataExtender_utt(df):\n",
        "  rows = []\n",
        "  for i1 in range(df.shape[0]):\n",
        "    for i2, _ in enumerate(df.iloc[i1]['speakers']):\n",
        "      new_row = pd.DataFrame({'speakers': [df.iloc[i1]['speakers'][i2]],\n",
        "                          'utterances': [df.iloc[i1]['utterances'][i2]],\n",
        "                          })\n",
        "      rows.append(new_row)\n",
        "  return pd.concat(rows, ignore_index=True).drop_duplicates()"
      ]
    },
    {
      "cell_type": "code",
      "execution_count": null,
      "metadata": {
        "id": "dKcQO2HDJ57q"
      },
      "outputs": [],
      "source": [
        "def dataExtender_emo(df):\n",
        "    rows = []\n",
        "    for i1 in range(df.shape[0]):\n",
        "        for i2, _ in enumerate(df.iloc[i1]['speakers']):\n",
        "            new_row = pd.DataFrame({'speakers': [df.iloc[i1]['speakers'][i2]],\n",
        "                                    'emotions': [df.iloc[i1]['emotions'][i2]],\n",
        "                                    'utterances': [df.iloc[i1]['utterances'][i2]],\n",
        "                                    })\n",
        "            rows.append(new_row)\n",
        "    return pd.concat(rows, ignore_index=True).drop_duplicates()"
      ]
    },
    {
      "cell_type": "code",
      "execution_count": null,
      "metadata": {
        "id": "RRXYQ0OrQycK"
      },
      "outputs": [],
      "source": [
        "def dataExtender_tri(df):\n",
        "  rows = []\n",
        "  for i1 in range(df.shape[0]):\n",
        "    for i2, _ in enumerate(df.iloc[i1]['speakers']):\n",
        "      new_row = pd.DataFrame({'speakers': [df.iloc[i1]['speakers'][i2]],\n",
        "                          'utterances': [df.iloc[i1]['utterances'][i2]],\n",
        "                          'triggers': [df.iloc[i1]['triggers'][i2]]\n",
        "                          })\n",
        "      rows.append(new_row)\n",
        "  return pd.concat(rows, ignore_index=True).drop_duplicates()"
      ]
    },
    {
      "cell_type": "code",
      "execution_count": null,
      "metadata": {
        "id": "jQO5SXeyQ6aB"
      },
      "outputs": [],
      "source": [
        "def dataExtender_emo_tri(df):\n",
        "  rows = []\n",
        "  for i1 in range(df.shape[0]):\n",
        "    for i2, _ in enumerate(df.iloc[i1]['speakers']):\n",
        "      new_row = pd.DataFrame({'speakers': [df.iloc[i1]['speakers'][i2]],\n",
        "                          'emotions': [df.iloc[i1]['emotions'][i2]],\n",
        "                          'utterances': [df.iloc[i1]['utterances'][i2]],\n",
        "                          'triggers': [df.iloc[i1]['triggers'][i2]]\n",
        "                          })\n",
        "      rows.append(new_row)\n",
        "  return pd.concat(rows, ignore_index=True).drop_duplicates()"
      ]
    },
    {
      "cell_type": "code",
      "execution_count": null,
      "metadata": {
        "id": "w_EXMwtHVe6r"
      },
      "outputs": [],
      "source": [
        "df_train_utt = dataExtender_utt(df_train)"
      ]
    },
    {
      "cell_type": "markdown",
      "metadata": {
        "collapsed": false,
        "id": "FIdx37kvNi3f"
      },
      "source": [
        "**We have to drop the duplicates before splitting the data. Otherwise, we drop the duplicates in each set, but we still have same rows between the different sets**"
      ]
    },
    {
      "cell_type": "code",
      "execution_count": null,
      "metadata": {
        "id": "1Yg4p7GzJ55V"
      },
      "outputs": [],
      "source": [
        "df_emo = dataExtender_emo(df)\n",
        "\n",
        "df_temp, df_test_emo = train_test_split(df_emo, test_size=0.1)\n",
        "df_train_emo, df_validation_emo = train_test_split(df_temp, test_size=1/9)"
      ]
    },
    {
      "cell_type": "code",
      "execution_count": null,
      "metadata": {
        "colab": {
          "base_uri": "https://localhost:8080/",
          "height": 423
        },
        "id": "mmybssAiLdcv",
        "outputId": "c2a60fa8-8ecd-48e7-d067-80e04e82d443"
      },
      "outputs": [
        {
          "output_type": "execute_result",
          "data": {
            "text/plain": [
              "          speakers  emotions  \\\n",
              "20749       Monica   disgust   \n",
              "25973  Mr. Treeger     anger   \n",
              "4276        Monica   neutral   \n",
              "937       Chandler       joy   \n",
              "25181       Rachel   neutral   \n",
              "...            ...       ...   \n",
              "10561         Ross  surprise   \n",
              "12718       Phoebe   neutral   \n",
              "18879  Mrs. Geller   neutral   \n",
              "30322     Chandler   neutral   \n",
              "997           Paul   neutral   \n",
              "\n",
              "                                              utterances  \n",
              "20749                                        It’s wrong.  \n",
              "25973                    : Oh yeah, of course you don't!  \n",
              "4276                                            Well so?  \n",
              "937                 David is going to propose to Phoebe.  \n",
              "25181                              Oh, she does want to.  \n",
              "...                                                  ...  \n",
              "10561            I just didn't see the fast song coming.  \n",
              "12718                                       ...like a...  \n",
              "18879  Oh that's all right, I'm coming back later wit...  \n",
              "30322  Okay. Okay. All right. Help! Am I a Mark, or a...  \n",
              "997                                                    I  \n",
              "\n",
              "[6664 rows x 3 columns]"
            ],
            "text/html": [
              "\n",
              "  <div id=\"df-20ba8bc9-d45a-4ccc-a6fa-3113d710fb7a\" class=\"colab-df-container\">\n",
              "    <div>\n",
              "<style scoped>\n",
              "    .dataframe tbody tr th:only-of-type {\n",
              "        vertical-align: middle;\n",
              "    }\n",
              "\n",
              "    .dataframe tbody tr th {\n",
              "        vertical-align: top;\n",
              "    }\n",
              "\n",
              "    .dataframe thead th {\n",
              "        text-align: right;\n",
              "    }\n",
              "</style>\n",
              "<table border=\"1\" class=\"dataframe\">\n",
              "  <thead>\n",
              "    <tr style=\"text-align: right;\">\n",
              "      <th></th>\n",
              "      <th>speakers</th>\n",
              "      <th>emotions</th>\n",
              "      <th>utterances</th>\n",
              "    </tr>\n",
              "  </thead>\n",
              "  <tbody>\n",
              "    <tr>\n",
              "      <th>20749</th>\n",
              "      <td>Monica</td>\n",
              "      <td>disgust</td>\n",
              "      <td>It’s wrong.</td>\n",
              "    </tr>\n",
              "    <tr>\n",
              "      <th>25973</th>\n",
              "      <td>Mr. Treeger</td>\n",
              "      <td>anger</td>\n",
              "      <td>: Oh yeah, of course you don't!</td>\n",
              "    </tr>\n",
              "    <tr>\n",
              "      <th>4276</th>\n",
              "      <td>Monica</td>\n",
              "      <td>neutral</td>\n",
              "      <td>Well so?</td>\n",
              "    </tr>\n",
              "    <tr>\n",
              "      <th>937</th>\n",
              "      <td>Chandler</td>\n",
              "      <td>joy</td>\n",
              "      <td>David is going to propose to Phoebe.</td>\n",
              "    </tr>\n",
              "    <tr>\n",
              "      <th>25181</th>\n",
              "      <td>Rachel</td>\n",
              "      <td>neutral</td>\n",
              "      <td>Oh, she does want to.</td>\n",
              "    </tr>\n",
              "    <tr>\n",
              "      <th>...</th>\n",
              "      <td>...</td>\n",
              "      <td>...</td>\n",
              "      <td>...</td>\n",
              "    </tr>\n",
              "    <tr>\n",
              "      <th>10561</th>\n",
              "      <td>Ross</td>\n",
              "      <td>surprise</td>\n",
              "      <td>I just didn't see the fast song coming.</td>\n",
              "    </tr>\n",
              "    <tr>\n",
              "      <th>12718</th>\n",
              "      <td>Phoebe</td>\n",
              "      <td>neutral</td>\n",
              "      <td>...like a...</td>\n",
              "    </tr>\n",
              "    <tr>\n",
              "      <th>18879</th>\n",
              "      <td>Mrs. Geller</td>\n",
              "      <td>neutral</td>\n",
              "      <td>Oh that's all right, I'm coming back later wit...</td>\n",
              "    </tr>\n",
              "    <tr>\n",
              "      <th>30322</th>\n",
              "      <td>Chandler</td>\n",
              "      <td>neutral</td>\n",
              "      <td>Okay. Okay. All right. Help! Am I a Mark, or a...</td>\n",
              "    </tr>\n",
              "    <tr>\n",
              "      <th>997</th>\n",
              "      <td>Paul</td>\n",
              "      <td>neutral</td>\n",
              "      <td>I</td>\n",
              "    </tr>\n",
              "  </tbody>\n",
              "</table>\n",
              "<p>6664 rows × 3 columns</p>\n",
              "</div>\n",
              "    <div class=\"colab-df-buttons\">\n",
              "\n",
              "  <div class=\"colab-df-container\">\n",
              "    <button class=\"colab-df-convert\" onclick=\"convertToInteractive('df-20ba8bc9-d45a-4ccc-a6fa-3113d710fb7a')\"\n",
              "            title=\"Convert this dataframe to an interactive table.\"\n",
              "            style=\"display:none;\">\n",
              "\n",
              "  <svg xmlns=\"http://www.w3.org/2000/svg\" height=\"24px\" viewBox=\"0 -960 960 960\">\n",
              "    <path d=\"M120-120v-720h720v720H120Zm60-500h600v-160H180v160Zm220 220h160v-160H400v160Zm0 220h160v-160H400v160ZM180-400h160v-160H180v160Zm440 0h160v-160H620v160ZM180-180h160v-160H180v160Zm440 0h160v-160H620v160Z\"/>\n",
              "  </svg>\n",
              "    </button>\n",
              "\n",
              "  <style>\n",
              "    .colab-df-container {\n",
              "      display:flex;\n",
              "      gap: 12px;\n",
              "    }\n",
              "\n",
              "    .colab-df-convert {\n",
              "      background-color: #E8F0FE;\n",
              "      border: none;\n",
              "      border-radius: 50%;\n",
              "      cursor: pointer;\n",
              "      display: none;\n",
              "      fill: #1967D2;\n",
              "      height: 32px;\n",
              "      padding: 0 0 0 0;\n",
              "      width: 32px;\n",
              "    }\n",
              "\n",
              "    .colab-df-convert:hover {\n",
              "      background-color: #E2EBFA;\n",
              "      box-shadow: 0px 1px 2px rgba(60, 64, 67, 0.3), 0px 1px 3px 1px rgba(60, 64, 67, 0.15);\n",
              "      fill: #174EA6;\n",
              "    }\n",
              "\n",
              "    .colab-df-buttons div {\n",
              "      margin-bottom: 4px;\n",
              "    }\n",
              "\n",
              "    [theme=dark] .colab-df-convert {\n",
              "      background-color: #3B4455;\n",
              "      fill: #D2E3FC;\n",
              "    }\n",
              "\n",
              "    [theme=dark] .colab-df-convert:hover {\n",
              "      background-color: #434B5C;\n",
              "      box-shadow: 0px 1px 3px 1px rgba(0, 0, 0, 0.15);\n",
              "      filter: drop-shadow(0px 1px 2px rgba(0, 0, 0, 0.3));\n",
              "      fill: #FFFFFF;\n",
              "    }\n",
              "  </style>\n",
              "\n",
              "    <script>\n",
              "      const buttonEl =\n",
              "        document.querySelector('#df-20ba8bc9-d45a-4ccc-a6fa-3113d710fb7a button.colab-df-convert');\n",
              "      buttonEl.style.display =\n",
              "        google.colab.kernel.accessAllowed ? 'block' : 'none';\n",
              "\n",
              "      async function convertToInteractive(key) {\n",
              "        const element = document.querySelector('#df-20ba8bc9-d45a-4ccc-a6fa-3113d710fb7a');\n",
              "        const dataTable =\n",
              "          await google.colab.kernel.invokeFunction('convertToInteractive',\n",
              "                                                    [key], {});\n",
              "        if (!dataTable) return;\n",
              "\n",
              "        const docLinkHtml = 'Like what you see? Visit the ' +\n",
              "          '<a target=\"_blank\" href=https://colab.research.google.com/notebooks/data_table.ipynb>data table notebook</a>'\n",
              "          + ' to learn more about interactive tables.';\n",
              "        element.innerHTML = '';\n",
              "        dataTable['output_type'] = 'display_data';\n",
              "        await google.colab.output.renderOutput(dataTable, element);\n",
              "        const docLink = document.createElement('div');\n",
              "        docLink.innerHTML = docLinkHtml;\n",
              "        element.appendChild(docLink);\n",
              "      }\n",
              "    </script>\n",
              "  </div>\n",
              "\n",
              "\n",
              "<div id=\"df-9d23ce99-b77d-4ff0-8f7a-662f40d2c95b\">\n",
              "  <button class=\"colab-df-quickchart\" onclick=\"quickchart('df-9d23ce99-b77d-4ff0-8f7a-662f40d2c95b')\"\n",
              "            title=\"Suggest charts\"\n",
              "            style=\"display:none;\">\n",
              "\n",
              "<svg xmlns=\"http://www.w3.org/2000/svg\" height=\"24px\"viewBox=\"0 0 24 24\"\n",
              "     width=\"24px\">\n",
              "    <g>\n",
              "        <path d=\"M19 3H5c-1.1 0-2 .9-2 2v14c0 1.1.9 2 2 2h14c1.1 0 2-.9 2-2V5c0-1.1-.9-2-2-2zM9 17H7v-7h2v7zm4 0h-2V7h2v10zm4 0h-2v-4h2v4z\"/>\n",
              "    </g>\n",
              "</svg>\n",
              "  </button>\n",
              "\n",
              "<style>\n",
              "  .colab-df-quickchart {\n",
              "      --bg-color: #E8F0FE;\n",
              "      --fill-color: #1967D2;\n",
              "      --hover-bg-color: #E2EBFA;\n",
              "      --hover-fill-color: #174EA6;\n",
              "      --disabled-fill-color: #AAA;\n",
              "      --disabled-bg-color: #DDD;\n",
              "  }\n",
              "\n",
              "  [theme=dark] .colab-df-quickchart {\n",
              "      --bg-color: #3B4455;\n",
              "      --fill-color: #D2E3FC;\n",
              "      --hover-bg-color: #434B5C;\n",
              "      --hover-fill-color: #FFFFFF;\n",
              "      --disabled-bg-color: #3B4455;\n",
              "      --disabled-fill-color: #666;\n",
              "  }\n",
              "\n",
              "  .colab-df-quickchart {\n",
              "    background-color: var(--bg-color);\n",
              "    border: none;\n",
              "    border-radius: 50%;\n",
              "    cursor: pointer;\n",
              "    display: none;\n",
              "    fill: var(--fill-color);\n",
              "    height: 32px;\n",
              "    padding: 0;\n",
              "    width: 32px;\n",
              "  }\n",
              "\n",
              "  .colab-df-quickchart:hover {\n",
              "    background-color: var(--hover-bg-color);\n",
              "    box-shadow: 0 1px 2px rgba(60, 64, 67, 0.3), 0 1px 3px 1px rgba(60, 64, 67, 0.15);\n",
              "    fill: var(--button-hover-fill-color);\n",
              "  }\n",
              "\n",
              "  .colab-df-quickchart-complete:disabled,\n",
              "  .colab-df-quickchart-complete:disabled:hover {\n",
              "    background-color: var(--disabled-bg-color);\n",
              "    fill: var(--disabled-fill-color);\n",
              "    box-shadow: none;\n",
              "  }\n",
              "\n",
              "  .colab-df-spinner {\n",
              "    border: 2px solid var(--fill-color);\n",
              "    border-color: transparent;\n",
              "    border-bottom-color: var(--fill-color);\n",
              "    animation:\n",
              "      spin 1s steps(1) infinite;\n",
              "  }\n",
              "\n",
              "  @keyframes spin {\n",
              "    0% {\n",
              "      border-color: transparent;\n",
              "      border-bottom-color: var(--fill-color);\n",
              "      border-left-color: var(--fill-color);\n",
              "    }\n",
              "    20% {\n",
              "      border-color: transparent;\n",
              "      border-left-color: var(--fill-color);\n",
              "      border-top-color: var(--fill-color);\n",
              "    }\n",
              "    30% {\n",
              "      border-color: transparent;\n",
              "      border-left-color: var(--fill-color);\n",
              "      border-top-color: var(--fill-color);\n",
              "      border-right-color: var(--fill-color);\n",
              "    }\n",
              "    40% {\n",
              "      border-color: transparent;\n",
              "      border-right-color: var(--fill-color);\n",
              "      border-top-color: var(--fill-color);\n",
              "    }\n",
              "    60% {\n",
              "      border-color: transparent;\n",
              "      border-right-color: var(--fill-color);\n",
              "    }\n",
              "    80% {\n",
              "      border-color: transparent;\n",
              "      border-right-color: var(--fill-color);\n",
              "      border-bottom-color: var(--fill-color);\n",
              "    }\n",
              "    90% {\n",
              "      border-color: transparent;\n",
              "      border-bottom-color: var(--fill-color);\n",
              "    }\n",
              "  }\n",
              "</style>\n",
              "\n",
              "  <script>\n",
              "    async function quickchart(key) {\n",
              "      const quickchartButtonEl =\n",
              "        document.querySelector('#' + key + ' button');\n",
              "      quickchartButtonEl.disabled = true;  // To prevent multiple clicks.\n",
              "      quickchartButtonEl.classList.add('colab-df-spinner');\n",
              "      try {\n",
              "        const charts = await google.colab.kernel.invokeFunction(\n",
              "            'suggestCharts', [key], {});\n",
              "      } catch (error) {\n",
              "        console.error('Error during call to suggestCharts:', error);\n",
              "      }\n",
              "      quickchartButtonEl.classList.remove('colab-df-spinner');\n",
              "      quickchartButtonEl.classList.add('colab-df-quickchart-complete');\n",
              "    }\n",
              "    (() => {\n",
              "      let quickchartButtonEl =\n",
              "        document.querySelector('#df-9d23ce99-b77d-4ff0-8f7a-662f40d2c95b button');\n",
              "      quickchartButtonEl.style.display =\n",
              "        google.colab.kernel.accessAllowed ? 'block' : 'none';\n",
              "    })();\n",
              "  </script>\n",
              "</div>\n",
              "    </div>\n",
              "  </div>\n"
            ],
            "application/vnd.google.colaboratory.intrinsic+json": {
              "type": "dataframe",
              "variable_name": "df_train_emo",
              "summary": "{\n  \"name\": \"df_train_emo\",\n  \"rows\": 6664,\n  \"fields\": [\n    {\n      \"column\": \"speakers\",\n      \"properties\": {\n        \"dtype\": \"category\",\n        \"samples\": [\n          \"Ross\",\n          \"Dr. Wesley\",\n          \"The Cooking Teacher\"\n        ],\n        \"num_unique_values\": 214,\n        \"semantic_type\": \"\",\n        \"description\": \"\"\n      }\n    },\n    {\n      \"column\": \"emotions\",\n      \"properties\": {\n        \"dtype\": \"category\",\n        \"samples\": [\n          \"disgust\",\n          \"anger\",\n          \"surprise\"\n        ],\n        \"num_unique_values\": 7,\n        \"semantic_type\": \"\",\n        \"description\": \"\"\n      }\n    },\n    {\n      \"column\": \"utterances\",\n      \"properties\": {\n        \"dtype\": \"string\",\n        \"samples\": [\n          \"All right I'll have one.\",\n          \"How about 'cause if you don't, his mother might.\",\n          \"And y'know the other one over there, that's the stairway.\"\n        ],\n        \"num_unique_values\": 6305,\n        \"semantic_type\": \"\",\n        \"description\": \"\"\n      }\n    }\n  ]\n}"
            }
          },
          "metadata": {},
          "execution_count": 17
        }
      ],
      "source": [
        "df_train_emo"
      ]
    },
    {
      "cell_type": "code",
      "execution_count": null,
      "metadata": {
        "id": "kA5OGGi8RHY-"
      },
      "outputs": [],
      "source": [
        "df_tri = dataExtender_tri(df)\n",
        "\n",
        "df_temp, df_test_tri = train_test_split(df_tri, test_size=0.1)\n",
        "df_train_tri, df_validation_tri = train_test_split(df_temp, test_size=1/9)"
      ]
    },
    {
      "cell_type": "code",
      "execution_count": null,
      "metadata": {
        "id": "UAXcZxN2RIpe"
      },
      "outputs": [],
      "source": [
        "df_emo_tri = dataExtender_emo_tri(df)\n",
        "\n",
        "df_temp, df_test_emo_tri = train_test_split(df_emo_tri, test_size=0.1)\n",
        "df_train_emo_tri, df_validation_emo_tri = train_test_split(df_temp, test_size=1/9)"
      ]
    },
    {
      "cell_type": "markdown",
      "metadata": {
        "id": "KiqGtwGYQVPG"
      },
      "source": [
        "This observation shows us that emotions are almost independent of the the conversation but triggers are highly dependent on it."
      ]
    },
    {
      "cell_type": "code",
      "execution_count": null,
      "metadata": {
        "colab": {
          "base_uri": "https://localhost:8080/"
        },
        "id": "WxDeQEVJJ52e",
        "outputId": "15b0afd4-e066-468d-d2db-22786026bfad"
      },
      "outputs": [
        {
          "output_type": "stream",
          "name": "stdout",
          "text": [
            "Only utterance: 7783\n",
            "emotion + utterance: 6664\n",
            "trigger + utterance: 9288\n",
            "Emotion + trigger + utterance: 9381\n"
          ]
        }
      ],
      "source": [
        "len_utt = len(df_train_utt)\n",
        "len_emo = len(df_train_emo)\n",
        "len_tri = len(df_train_tri)\n",
        "len_emo_tri = len(df_train_emo_tri)\n",
        "\n",
        "\n",
        "print(f'Only utterance: {len(df_train_utt)}')\n",
        "print(f'emotion + utterance: {len(df_train_emo)}')\n",
        "print(f'trigger + utterance: {len(df_train_tri)}')\n",
        "print(f'Emotion + trigger + utterance: {len(df_train_emo_tri)}')"
      ]
    },
    {
      "cell_type": "markdown",
      "metadata": {
        "collapsed": false,
        "id": "sA9S4WJLNi3f"
      },
      "source": [
        "As it can be seen the percentage of emotions dependent on the context is less than 1%. Unlike triggers which almost have a 27% dependency on the context"
      ]
    },
    {
      "cell_type": "code",
      "execution_count": null,
      "metadata": {
        "colab": {
          "base_uri": "https://localhost:8080/"
        },
        "id": "S_tfFvAzSyH9",
        "outputId": "9a2017f0-2d31-4ad2-b478-a680370e1f90"
      },
      "outputs": [
        {
          "output_type": "stream",
          "name": "stdout",
          "text": [
            "Percentage of emotions which were dependent on the context: -14.377489399974303\n",
            "Percentage of triggers which were dependent on the context: 19.337016574585636\n"
          ]
        }
      ],
      "source": [
        "print(f'Percentage of emotions which were dependent on the context: {((len_emo-len_utt)/len_utt)*100}')\n",
        "print(f'Percentage of triggers which were dependent on the context: {((len_tri-len_utt)/len_utt)*100}')"
      ]
    },
    {
      "cell_type": "code",
      "execution_count": null,
      "metadata": {
        "id": "ShYXzwOyU2ex"
      },
      "outputs": [],
      "source": [
        "import random\n",
        "\n",
        "def set_color(number_of_colors):\n",
        "    color_list = []\n",
        "    for i in range(number_of_colors):\n",
        "        color_list.append(\"#\"+''.join([random.choice('0123456789ABCDEF') for j in range(6)]))\n",
        "    return color_list"
      ]
    },
    {
      "cell_type": "code",
      "execution_count": null,
      "metadata": {
        "colab": {
          "base_uri": "https://localhost:8080/",
          "height": 795
        },
        "id": "H0lfT1DvVCYJ",
        "outputId": "48584295-e10f-4764-9743-f712e9272863"
      },
      "outputs": [
        {
          "output_type": "display_data",
          "data": {
            "text/plain": [
              "<Figure size 2000x1000 with 1 Axes>"
            ],
            "image/png": "[encoded data removed]"
          },
          "metadata": {}
        }
      ],
      "source": [
        "plt.figure(figsize=(20,10))\n",
        "plt.bar(emotion_number_to_item.keys(), emotion_number_to_item.values(), color=set_color(len(emotion_number_to_item)))\n",
        "plt.title(\"Emotions distribution\")\n",
        "plt.xlabel(\"Emotions\")\n",
        "plt.ylabel(\"Number of occurences\")\n",
        "plt.show()"
      ]
    },
    {
      "cell_type": "markdown",
      "metadata": {
        "collapsed": false,
        "id": "YFGZki3hNi3f"
      },
      "source": [
        "# Descriptive analysis\n",
        "## Emotions distribution"
      ]
    },
    {
      "cell_type": "markdown",
      "metadata": {
        "id": "K5OrF-qV369S"
      },
      "source": [
        "In this section we computed the occurrences and normalized frequencies of values in a given column. Then, we utilized our function to obtain the occurrences and normalized frequencies of emotions in the training, validation, and test sets, preparing the data for visualization or further analysis."
      ]
    },
    {
      "cell_type": "code",
      "execution_count": null,
      "metadata": {
        "id": "WpakrmzCNi3f"
      },
      "outputs": [],
      "source": [
        "# Get occurrences for a given column\n",
        "def get_freq_col(data, column):\n",
        "    all_values = []\n",
        "\n",
        "    for dialog in range(data.shape[0]):\n",
        "        for value in data.iloc[dialog][column]:\n",
        "            all_values.append(value)\n",
        "\n",
        "    unique, freq = np.unique(all_values, return_counts=True)\n",
        "    freq = freq/np.sum(freq)\n",
        "\n",
        "    return unique, freq\n",
        "\n",
        "emotions_train, freq_train =  np.unique(df_train_emo.emotions, return_counts=1)\n",
        "emotions_validation, freq_validation =  np.unique(df_validation_emo.emotions, return_counts=1)\n",
        "emotions_test, freq_test =  np.unique(df_test_emo.emotions, return_counts=1)\n",
        "\n",
        "# Normalize to help the visualization\n",
        "freq_train = freq_train/sum(freq_train)\n",
        "freq_validation = freq_validation/sum(freq_validation)\n",
        "freq_test = freq_test/sum(freq_test)\n"
      ]
    },
    {
      "cell_type": "markdown",
      "metadata": {
        "id": "xeprItCf4AmK"
      },
      "source": [
        "Here, we have a bar chart showing the frequency distribution of emotions across the training, validation, and test datasets"
      ]
    },
    {
      "cell_type": "code",
      "execution_count": null,
      "metadata": {
        "colab": {
          "base_uri": "https://localhost:8080/",
          "height": 452
        },
        "id": "oii0jQ44Ni3g",
        "outputId": "759b13a1-691e-4948-857f-f97db99bdfc4"
      },
      "outputs": [
        {
          "output_type": "display_data",
          "data": {
            "text/plain": [
              "<Figure size 640x480 with 1 Axes>"
            ],
            "image/png": "[encoded data removed]"
          },
          "metadata": {}
        }
      ],
      "source": [
        "N = len(emotions_train)\n",
        "ind = np.arange(N)\n",
        "width = 0.25\n",
        "\n",
        "bar1 = plt.bar(ind, freq_train, width, color = 'r')\n",
        "bar2 = plt.bar(ind+width, freq_validation, width, color='g')\n",
        "bar3 = plt.bar(ind+width*2, freq_test, width, color = 'b')\n",
        "\n",
        "plt.xlabel(\"\")\n",
        "plt.ylabel('Frequency')\n",
        "plt.title(\"Emotions frequency\")\n",
        "\n",
        "plt.xticks(ind+width, emotions_train)\n",
        "plt.legend( (bar1, bar2, bar3), ('Training', 'Validation', 'Test') )\n",
        "plt.show()"
      ]
    },
    {
      "cell_type": "markdown",
      "metadata": {
        "collapsed": false,
        "id": "4aSkRlmONi3g"
      },
      "source": [
        "We can see that the different sets have same emotion's distribution. Moreover, the neutral emotion is clearly predominant and the digust and fear emotions are less present in our data.\n",
        "\n",
        "## Triggers distribution\n",
        "\n",
        "### Proportion of zeros in each set"
      ]
    },
    {
      "cell_type": "code",
      "execution_count": null,
      "metadata": {
        "colab": {
          "base_uri": "https://localhost:8080/"
        },
        "id": "3iZodsHPNi3g",
        "outputId": "8ba8de7f-1eb9-4c9a-eecb-af66d86e1c11"
      },
      "outputs": [
        {
          "output_type": "stream",
          "name": "stdout",
          "text": [
            "Proportion of triggers equal to zeros:\n",
            "--> Training 0.838\n",
            "--> Validation 0.846\n",
            "--> Test 0.854\n"
          ]
        }
      ],
      "source": [
        "triggers_train, freq_train =  get_freq_col(df_train, \"triggers\")\n",
        "triggers_validation, freq_validation =  get_freq_col(df_validation, \"triggers\")\n",
        "triggers_test, freq_test =  get_freq_col(df_test, \"triggers\")\n",
        "\n",
        "print(\"Proportion of triggers equal to zeros:\")\n",
        "print(f\"--> Training {freq_train[0]:.3}\")\n",
        "print(f\"--> Validation {freq_validation[0]:.3}\")\n",
        "print(f\"--> Test {freq_test[0]:.3}\")"
      ]
    },
    {
      "cell_type": "markdown",
      "metadata": {
        "collapsed": false,
        "id": "9d2ZJ8b5Ni3g"
      },
      "source": [
        "The different seems to have the same triggers distribution. We can also observe that most of the utterances are not triggers (+- 85%)"
      ]
    },
    {
      "cell_type": "markdown",
      "metadata": {
        "collapsed": false,
        "id": "mc_h_fIeNi3g"
      },
      "source": [
        "### Distance between the target and the triggers\n",
        "Let's look at the distance between the utterances that caused the emotions flip and the target utterance, which is the last utterance.\n",
        "\n",
        "For example, a distance of 1 means that the before last utterance , is a trigger for the emotion flip, i.e. the before last utterance cause the emotion flip. A distance of 0 means that the last utterance cause the emotion flip"
      ]
    },
    {
      "cell_type": "code",
      "execution_count": null,
      "metadata": {
        "id": "vyG-QZHLNi3g"
      },
      "outputs": [],
      "source": [
        "all_distances = []\n",
        "\n",
        "for dialog in range(df.shape[0]):\n",
        "    all_trig = df.iloc[dialog][\"triggers\"]\n",
        "    active_trig = np.where(all_trig)[0]\n",
        "    for trig in active_trig:\n",
        "        dist = (len(all_trig)-1) - trig\n",
        "        all_distances.append(dist)\n",
        "\n",
        "trig, counts = np.unique(all_distances, return_counts=True)\n"
      ]
    },
    {
      "cell_type": "code",
      "execution_count": null,
      "metadata": {
        "colab": {
          "base_uri": "https://localhost:8080/",
          "height": 449
        },
        "id": "HH9oU-Z8Ni3g",
        "outputId": "39756643-0c94-44af-df1d-62936e287a7f"
      },
      "outputs": [
        {
          "output_type": "display_data",
          "data": {
            "text/plain": [
              "<Figure size 640x480 with 1 Axes>"
            ],
            "image/png": "[encoded data removed]"
          },
          "metadata": {}
        }
      ],
      "source": [
        "#Plotting distance of triggers to target\n",
        "plt.bar(trig, counts)\n",
        "plt.xticks(trig, trig)\n",
        "plt.xlabel(\"Distance triggers-target\")\n",
        "plt.ylabel(\"Frequency\")\n",
        "plt.show()"
      ]
    },
    {
      "cell_type": "markdown",
      "metadata": {
        "collapsed": false,
        "id": "SsildjSRNi3g"
      },
      "source": [
        "## Length utterances and dialog"
      ]
    },
    {
      "cell_type": "markdown",
      "metadata": {
        "id": "1i1ZNQ6l4Vxh"
      },
      "source": [
        "In this section,we compute and visualize the distribution of dialog and utterance lengths, providing insights into the data's structure and potential characteristics"
      ]
    },
    {
      "cell_type": "code",
      "execution_count": null,
      "metadata": {
        "id": "zDIVDkUyNi3g",
        "colab": {
          "base_uri": "https://localhost:8080/"
        },
        "outputId": "ea58134d-1549-4e5a-d136-960fc31da2a5"
      },
      "outputs": [
        {
          "output_type": "stream",
          "name": "stderr",
          "text": [
            "Asking to pad to max_length but no maximum length is provided and the model has no predefined maximum length. Default to no padding.\n",
            "Asking to truncate to max_length but no maximum length is provided and the model has no predefined maximum length. Default to no truncation.\n"
          ]
        }
      ],
      "source": [
        "utterances_length = []\n",
        "dialog_length = np.zeros(df.shape[0])\n",
        "\n",
        "for dialog in range(df.shape[0]):\n",
        "    for utterance in df.iloc[dialog][\"utterances\"]:\n",
        "        text_token = tokenizer.encode_plus(\n",
        "                    utterance,\n",
        "                    None,\n",
        "                    add_special_tokens=True,\n",
        "                    truncation=True,\n",
        "                    padding='max_length',\n",
        "                    return_token_type_ids=True\n",
        "                )\n",
        "        length = len(text_token['input_ids'])\n",
        "\n",
        "        utterances_length.append(length)\n",
        "        dialog_length[dialog] += length"
      ]
    },
    {
      "cell_type": "code",
      "execution_count": null,
      "metadata": {
        "colab": {
          "base_uri": "https://localhost:8080/",
          "height": 452
        },
        "id": "agS4TRbCNi3h",
        "outputId": "bbcd7b15-0d45-4e8d-9c19-12f5486beb4f"
      },
      "outputs": [
        {
          "output_type": "display_data",
          "data": {
            "text/plain": [
              "<Figure size 640x480 with 2 Axes>"
            ],
            "image/png": "[encoded data removed]"
          },
          "metadata": {}
        }
      ],
      "source": [
        "#plotting dialog length and utterance length plots\n",
        "ax, fig = plt.subplots(1,2)\n",
        "\n",
        "plt.subplot(1,2,1)\n",
        "plt.boxplot(dialog_length)\n",
        "plt.title(\"Dialog length\")\n",
        "\n",
        "plt.subplot(1,2,2)\n",
        "plt.boxplot(utterances_length)\n",
        "plt.title(\"Utterances length\")\n",
        "plt.show()"
      ]
    },
    {
      "cell_type": "markdown",
      "metadata": {
        "collapsed": false,
        "id": "MvOfLUy4Ni3m"
      },
      "source": [
        "# Baseline Model\n",
        "## Uniform classifier"
      ]
    },
    {
      "cell_type": "markdown",
      "metadata": {
        "id": "0prfAZ4-4bJ0"
      },
      "source": [
        "here,we defined a function that generates random predictions based on the unique values observed in a specified column of a DataFrame. It iterates through each dialog in the test data, collects the true values from the specified column, identifies unique values, and then randomly selects values from these unique values to create predictions. Then it applies this function to two columns, \"emotions\" and \"triggers\", in the test data. It computes and prints classification reports for the \"emotions\" column and computes the accuracy and F1-score for the \"triggers\" column, providing insights into the performance of a baseline model that randomly predicts from observed values in these columns."
      ]
    },
    {
      "cell_type": "code",
      "execution_count": null,
      "metadata": {
        "id": "zPBuY3-ENi3m"
      },
      "outputs": [],
      "source": [
        "from sklearn.metrics import accuracy_score, f1_score\n",
        "\n",
        "def uniform_predict(column):\n",
        "    true_values= []\n",
        "\n",
        "    for dialog in range(df_test.shape[0]):\n",
        "        for value in df_test.iloc[dialog][column]:\n",
        "            true_values.append(value)\n",
        "\n",
        "    # Get the different possible values\n",
        "    diff_values = np.unique(true_values)\n",
        "\n",
        "    # Draw uniformly one value among all the possible values.\n",
        "    pred = np.random.choice(diff_values, len(true_values))\n",
        "\n",
        "    return true_values, pred"
      ]
    },
    {
      "cell_type": "code",
      "execution_count": null,
      "metadata": {
        "colab": {
          "base_uri": "https://localhost:8080/"
        },
        "id": "6WL9PjN6Ni3m",
        "outputId": "86343662-f2e1-4c61-abbd-6b4cf56ad383"
      },
      "outputs": [
        {
          "output_type": "stream",
          "name": "stdout",
          "text": [
            "Emotions: Uniform Classifier\n",
            "              precision    recall  f1-score   support\n",
            "\n",
            "       anger       0.10      0.13      0.11       379\n",
            "     disgust       0.04      0.19      0.06       103\n",
            "        fear       0.04      0.18      0.06       106\n",
            "         joy       0.19      0.14      0.16       712\n",
            "     neutral       0.39      0.13      0.19      1544\n",
            "     sadness       0.08      0.14      0.10       291\n",
            "    surprise       0.11      0.12      0.12       472\n",
            "\n",
            "    accuracy                           0.14      3607\n",
            "   macro avg       0.14      0.15      0.12      3607\n",
            "weighted avg       0.24      0.14      0.15      3607\n",
            "\n"
          ]
        }
      ],
      "source": [
        "# Emotions: Uniform Classifier Evaluation\n",
        "emotions_true, emotions_pred = uniform_predict(\"emotions\")\n",
        "print(f\"Emotions: Uniform Classifier\")\n",
        "print(classification_report(emotions_true, emotions_pred,\n",
        "                            #target_names = labels,\n",
        "                            zero_division=1))"
      ]
    },
    {
      "cell_type": "code",
      "execution_count": null,
      "metadata": {
        "colab": {
          "base_uri": "https://localhost:8080/"
        },
        "id": "fV6d3SHfLIhl",
        "outputId": "0774e16f-bb8d-41be-9438-0b41f2ecb7e7"
      },
      "outputs": [
        {
          "output_type": "stream",
          "name": "stdout",
          "text": [
            "Triggers:  Uniform Classifier\n",
            "              precision    recall  f1-score   support\n",
            "\n",
            "           0       0.85      0.50      0.63      3079\n",
            "           1       0.14      0.49      0.22       528\n",
            "\n",
            "    accuracy                           0.50      3607\n",
            "   macro avg       0.50      0.49      0.42      3607\n",
            "weighted avg       0.75      0.50      0.57      3607\n",
            "\n",
            "--> Accuracy = 0.496 \n",
            "--> F1-score = 0.424\n"
          ]
        }
      ],
      "source": [
        "# Triggers: Uniform Classifier Evaluation\n",
        "triggers_true, triggers_pred_uniform = uniform_predict(\"triggers\")\n",
        "print(\"Triggers:  Uniform Classifier\")\n",
        "print(classification_report(triggers_true, triggers_pred_uniform, zero_division=0))\n",
        "\n",
        "print(f\"--> Accuracy = {accuracy_score(triggers_true, triggers_pred_uniform):.3} \\n\"\n",
        "      f\"--> F1-score = {f1_score(triggers_true, triggers_pred_uniform, average='macro'):.3}\")"
      ]
    },
    {
      "cell_type": "markdown",
      "metadata": {
        "collapsed": false,
        "id": "Do46z6YMNi3m"
      },
      "source": [
        "## Most-frequent classifier"
      ]
    },
    {
      "cell_type": "markdown",
      "metadata": {
        "id": "LksS8w0_4hM0"
      },
      "source": [
        "On the other hand,we defined a function(majority_predict) that predicts the most frequent category in a specified column of a DataFrame. It iterates through each dialog in the test data, collects the true values from the specified column, identifies the unique values and their frequencies from the training data, and then predicts the most frequent value for all instances in the test data.Then it applies this function to two columns, \"emotions\" and \"triggers\", in the test data. It computes and prints classification reports for the \"emotions\" column and computes the accuracy and F1-score for the \"triggers\" column, providing insights into the performance of a baseline model that predicts the most frequent category in these columns."
      ]
    },
    {
      "cell_type": "code",
      "execution_count": null,
      "metadata": {
        "id": "1G69GR4uNi3n"
      },
      "outputs": [],
      "source": [
        "# Predict the most frequent category\n",
        "def majority_predict(column):\n",
        "    true_values= []\n",
        "\n",
        "    for dialog in range(df_test.shape[0]):\n",
        "        for value in df_test.iloc[dialog][column]:\n",
        "            true_values.append(value)\n",
        "\n",
        "    # Get the different possible values and the frequency\n",
        "    diff_values, frequency = get_freq_col(df_train, column)\n",
        "\n",
        "    # Always predict the most frequent values\n",
        "    pred = [diff_values[np.argmax(frequency)]] * len(true_values)\n",
        "\n",
        "    return true_values, pred"
      ]
    },
    {
      "cell_type": "code",
      "execution_count": null,
      "metadata": {
        "colab": {
          "base_uri": "https://localhost:8080/"
        },
        "id": "AcmKsBOyNi3n",
        "outputId": "6dacd9d2-9dfd-4089-e61f-bcc8c8dc5110"
      },
      "outputs": [
        {
          "output_type": "stream",
          "name": "stdout",
          "text": [
            "Emotions : Majority Classifier \n",
            "              precision    recall  f1-score   support\n",
            "\n",
            "       anger       1.00      0.00      0.00       379\n",
            "     disgust       1.00      0.00      0.00       103\n",
            "        fear       1.00      0.00      0.00       106\n",
            "         joy       1.00      0.00      0.00       712\n",
            "     neutral       0.43      1.00      0.60      1544\n",
            "     sadness       1.00      0.00      0.00       291\n",
            "    surprise       1.00      0.00      0.00       472\n",
            "\n",
            "    accuracy                           0.43      3607\n",
            "   macro avg       0.92      0.14      0.09      3607\n",
            "weighted avg       0.76      0.43      0.26      3607\n",
            "\n"
          ]
        }
      ],
      "source": [
        "# Emotions: Majority Classifier Evaluation\n",
        "emotions_true, emotions_pred = majority_predict(\"emotions\")\n",
        "print(f\"Emotions : Majority Classifier \")\n",
        "print(classification_report(emotions_true, emotions_pred,\n",
        "                            #target_names = labels,\n",
        "                            zero_division=1))"
      ]
    },
    {
      "cell_type": "code",
      "execution_count": null,
      "metadata": {
        "colab": {
          "base_uri": "https://localhost:8080/"
        },
        "id": "rUBrE-DELM-f",
        "outputId": "bc6ab05c-79c3-46cd-8b29-ddfe679fe7c2"
      },
      "outputs": [
        {
          "output_type": "stream",
          "name": "stdout",
          "text": [
            "\n",
            "Triggers: Majority Classifier\n",
            "              precision    recall  f1-score   support\n",
            "\n",
            "           0       0.85      1.00      0.92      3079\n",
            "           1       0.00      0.00      0.00       528\n",
            "\n",
            "    accuracy                           0.85      3607\n",
            "   macro avg       0.43      0.50      0.46      3607\n",
            "weighted avg       0.73      0.85      0.79      3607\n",
            "\n",
            "Triggers : \n",
            " --> Accuracy = 0.854 \n",
            " --> F1-score = 0.461\n"
          ]
        }
      ],
      "source": [
        "# Triggers: Majority Classifier Evaluation\n",
        "triggers_true, triggers_pred_majority = majority_predict(\"triggers\")\n",
        "print(\"\\nTriggers: Majority Classifier\")\n",
        "print(classification_report(triggers_true, triggers_pred_majority, zero_division=0))\n",
        "\n",
        "print(f\"Triggers : \\n \"\n",
        "      f\"--> Accuracy = {accuracy_score(triggers_true, triggers_pred_majority):.3} \\n \"\n",
        "      f\"--> F1-score = {f1_score(triggers_true, triggers_pred_majority, average='macro'):.3}\")"
      ]
    },
    {
      "cell_type": "markdown",
      "metadata": {
        "id": "ti7k36cNqbxR"
      },
      "source": [
        "# Emotion Model"
      ]
    },
    {
      "cell_type": "markdown",
      "metadata": {
        "id": "P1kTV68X9Vr-"
      },
      "source": [
        "\n",
        "In our emotion model, we have implemented a specialized BERT model designed to discern the emotion within a single utterance, independent of its surrounding context or adjacent utterances. This decision stemmed from our observation that within the provided dataset, utterances exhibited minimal dependency on contextual information from surrounding utterances. Consequently, our model focuses exclusively on the content and structure of individual utterances to predict the corresponding emotions expressed within them. This approach reflects our adaptation to the characteristics of the dataset and aims to optimize the model's performance by concentrating on the intrinsic features of each utterance in isolation."
      ]
    },
    {
      "cell_type": "code",
      "execution_count": null,
      "metadata": {
        "id": "MVLTvndjJ5z2"
      },
      "outputs": [],
      "source": [
        "class EmotionDataset(Dataset):\n",
        "\n",
        "    def __init__(self, dataframe, tokenizer, max_len, emotion_item_to_number, emotion_number_to_one_hot):\n",
        "        # Initialize the dataset with necessary parameters and data\n",
        "        self.tokenizer = tokenizer\n",
        "        self.max_len = max_len\n",
        "        self.emotion_item_to_number = emotion_item_to_number\n",
        "        self.emotion_number_to_one_hot = emotion_number_to_one_hot\n",
        "\n",
        "        self.data = dataframe\n",
        "        self.speakers = dataframe.speakers\n",
        "        self.utterances = dataframe.utterances\n",
        "        self.emotions = dataframe.emotions\n",
        "\n",
        "    def __len__(self):\n",
        "        # Define the length of the dataset (number of data samples)\n",
        "        return len(self.data)\n",
        "\n",
        "    def __getitem__(self, index):\n",
        "        # Get a specific data sample at the given index\n",
        "        row = self.data.iloc[index]\n",
        "        speakers = row['speakers']\n",
        "        utterance = row['utterances']\n",
        "        emotion = row['emotions']\n",
        "        target = self.emotion_number_to_one_hot[self.emotion_item_to_number[emotion]]\n",
        "\n",
        "        # Tokenize and preprocess the input data using the tokenizer\n",
        "        inputs = self.tokenizer.encode_plus(\n",
        "            utterance,\n",
        "            None,\n",
        "            add_special_tokens=True,\n",
        "            max_length=self.max_len,\n",
        "            truncation=True,\n",
        "            padding='max_length',\n",
        "            return_token_type_ids=True\n",
        "        )\n",
        "\n",
        "        ids = inputs['input_ids']\n",
        "        mask = inputs['attention_mask']\n",
        "        token_type_ids = inputs[\"token_type_ids\"]\n",
        "\n",
        "        # Return the preprocessed data as tensors\n",
        "        return {\n",
        "            'ids': torch.tensor(ids, dtype=torch.long),\n",
        "            'mask': torch.tensor(mask, dtype=torch.long),\n",
        "            'token_type_ids': torch.tensor(token_type_ids, dtype=torch.long),\n",
        "            'targets': torch.tensor(target, dtype=torch.float),\n",
        "        }"
      ]
    },
    {
      "cell_type": "code",
      "execution_count": null,
      "metadata": {
        "colab": {
          "base_uri": "https://localhost:8080/"
        },
        "id": "DoFqXZaPJ5t4",
        "outputId": "bafe7b86-a8fe-4e18-cce0-df820ba85fe7"
      },
      "outputs": [
        {
          "name": "stdout",
          "output_type": "stream",
          "text": [
            "Train Dataset: (6664, 3)\n",
            "Validation Dataset: (833, 3)\n",
            "Test Dataset: (834, 3)\n"
          ]
        }
      ],
      "source": [
        "# Creating the dataset and dataloader for the neural network\n",
        "\n",
        "print(\"Train Dataset: {}\".format(df_train_emo.shape))\n",
        "print(\"Validation Dataset: {}\".format(df_validation_emo.shape))\n",
        "print(\"Test Dataset: {}\".format(df_test_emo.shape))\n",
        "\n",
        "# Creating datasets for training, validation, and testing using the EmotionDataset class\n",
        "emo_training_set = EmotionDataset(df_train_emo, tokenizer, MAX_LEN_EMO, emotion_item_to_number, emotion_number_to_one_hot)\n",
        "emo_validation_set = EmotionDataset(df_validation_emo, tokenizer, MAX_LEN_EMO, emotion_item_to_number, emotion_number_to_one_hot)\n",
        "emo_testing_set = EmotionDataset(df_test_emo, tokenizer, MAX_LEN_EMO, emotion_item_to_number, emotion_number_to_one_hot)"
      ]
    },
    {
      "cell_type": "code",
      "execution_count": null,
      "metadata": {
        "id": "XFkTWRX2jdfZ"
      },
      "outputs": [],
      "source": [
        "# Define parameters for dataloaders\n",
        "train_params = {'batch_size': TRAIN_BATCH_SIZE,\n",
        "                'shuffle': False,\n",
        "                'num_workers': 0\n",
        "                }\n",
        "validation_params = {'batch_size': VALID_BATCH_SIZE,\n",
        "                     'shuffle': True,\n",
        "                     'num_workers': 0\n",
        "                    }\n",
        "test_params = {'batch_size': VALID_BATCH_SIZE,\n",
        "               'shuffle': True,\n",
        "               'num_workers': 0\n",
        "              }\n",
        "\n",
        "# Creating dataloaders for training, validation, and testing\n",
        "training_loader = DataLoader(emo_training_set, **train_params)\n",
        "validation_loader = DataLoader(emo_validation_set, **validation_params)\n",
        "testing_loader = DataLoader(emo_testing_set, **test_params)"
      ]
    },
    {
      "cell_type": "code",
      "execution_count": null,
      "metadata": {
        "id": "O967subBkW7r"
      },
      "outputs": [],
      "source": [
        "# Creating the customized model, by adding a drop out and a dense layer on top of distil bert to get the final output for the model.\n",
        "import torch.nn.functional as F\n",
        "\n",
        "class BERTClass(torch.nn.Module):\n",
        "    def __init__(self, card_name):\n",
        "        super(BERTClass, self).__init__()\n",
        "        self.transformer = AutoModel.from_pretrained(card_name, return_dict=False)\n",
        "        self.dropout = torch.nn.Dropout(0.3)\n",
        "        if card_name == 'bert-base-uncased' :\n",
        "            self.dense1 = torch.nn.Linear(768, 384)\n",
        "        elif card_name == 'prajjwal1/bert-tiny' :\n",
        "            self.dense1 = torch.nn.Linear(128, 384)\n",
        "        self.dense2 = torch.nn.Linear(384, 192)\n",
        "        self.dense3 = torch.nn.Linear(192, 7)\n",
        "\n",
        "    def forward(self, ids, mask, token_type_ids):\n",
        "        _, output = self.transformer(ids, attention_mask = mask, token_type_ids = token_type_ids, return_dict=False)\n",
        "        output = self.dropout(output)\n",
        "        output = self.dense1(output)\n",
        "        output = F.relu(output)\n",
        "        output = self.dense2(output)\n",
        "        output = F.relu(output)\n",
        "        output = self.dense3(output)\n",
        "        return output"
      ]
    },
    {
      "cell_type": "code",
      "execution_count": null,
      "metadata": {
        "id": "GOiXGA0Uk6lr"
      },
      "outputs": [],
      "source": [
        "# Training function for the model\n",
        "def train(model, dataloader, optimizer,\n",
        "          #scheduler,\n",
        "          LEARNING_RATE, EPOCHS, epoch, criterion):\n",
        "    size = len(dataloader.dataset)\n",
        "    total_items = len(dataloader)\n",
        "    model.train()\n",
        "\n",
        "    for batch, data in tqdm(enumerate(dataloader, 0), total=total_items):\n",
        "        # Get data from the dataloader\n",
        "        ids = data['ids'].to(device, dtype=torch.long)\n",
        "        mask = data['mask'].to(device, dtype=torch.long)\n",
        "        token_type_ids = data['token_type_ids'].to(device, dtype=torch.long)\n",
        "        targets = data['targets'].to(device, dtype=torch.float)\n",
        "\n",
        "        # Zero out gradients\n",
        "        optimizer.zero_grad()\n",
        "\n",
        "        # Forward pass through the model\n",
        "        outputs = model(ids, mask, token_type_ids)\n",
        "\n",
        "        # Calculate loss and backpropagate\n",
        "        loss = criterion(outputs, targets)\n",
        "        loss.backward()\n",
        "        optimizer.step()\n",
        "\n",
        "        #Print loss and progress\n",
        "        #if batch % 5000 == 0:\n",
        "        #    print(f'Epoch: {epoch}, Loss: {loss.item()}')\n",
        "\n",
        "        #if batch % 100 == 0:\n",
        "        #    loss, current = loss.item(), batch * len(ids)\n",
        "        #    print(f\"Train loss: {loss:>7f}  [{current:>5d}/{size:>5d}]\")\n",
        "    #scheduler.step()"
      ]
    },
    {
      "cell_type": "code",
      "execution_count": null,
      "metadata": {
        "id": "a-4GznxslEdn"
      },
      "outputs": [],
      "source": [
        "# Validation function for the model\n",
        "def validation(epoch, model, dataloader, criterion, frozen=False):\n",
        "    num_batches = len(dataloader)\n",
        "    model.eval()\n",
        "    val_loss = 0\n",
        "    with torch.no_grad():\n",
        "        for batch_idx, data in enumerate(dataloader, 0):\n",
        "            # Get data from the dataloader\n",
        "            ids = data['ids'].to(device, dtype=torch.long)\n",
        "            mask = data['mask'].to(device, dtype=torch.long)\n",
        "            token_type_ids = data['token_type_ids'].to(device, dtype=torch.long)\n",
        "            targets = data['targets'].to(device, dtype=torch.float)\n",
        "\n",
        "            # Forward pass through the model\n",
        "            outputs = model(ids, mask, token_type_ids)\n",
        "\n",
        "            # Calculate validation loss\n",
        "            val_loss += criterion(outputs, targets).item()\n",
        "\n",
        "        val_loss /= num_batches\n",
        "        print(val_loss)\n",
        "\n",
        "        # Check if validation loss improved and save the model\n",
        "        # if val_loss <= val_loss_min_input:\n",
        "        #     if epoch > 0:\n",
        "        #         print('Validation loss decreased ({:.8f} --> {:.8f}). Saving model ...'.format(val_loss_min_input, val_loss))\n",
        "        #     else:\n",
        "        #         print('Saving model ...')\n",
        "            # Save the best model\n",
        "        torch.save(model.state_dict(), f\"emo_model_{'Frozen' if frozen else 'Full'}_{epoch+1}.pth\")\n",
        "        print(\"Saved PyTorch Model State to model.pth\\n\")\n",
        "        #val_loss_min_input = val_loss\n",
        "        # else:\n",
        "        #     print('Validation loss didn\\'t go down -____-')\n",
        "\n",
        "    #return val_loss_min_input\n",
        "    return val_loss"
      ]
    },
    {
      "cell_type": "code",
      "execution_count": null,
      "metadata": {
        "colab": {
          "base_uri": "https://localhost:8080/"
        },
        "id": "wjCBNrMwVBLL",
        "outputId": "11e05f6f-9336-44bb-f041-00f605d92e71"
      },
      "outputs": [
        {
          "name": "stdout",
          "output_type": "stream",
          "text": [
            "Class weights: [1.0782368  3.85816045 4.59323512 0.81987954 0.32114482 1.59988072\n",
            " 1.56971179]\n"
          ]
        }
      ],
      "source": [
        "from sklearn.utils import class_weight\n",
        "\n",
        "# Calculate class weights for the training data\n",
        "y_train = []\n",
        "for index, row in df_train_emo.iterrows():\n",
        "    for i in range(len(row[\"utterances\"])):\n",
        "        y_train.append(row[\"emotions\"])\n",
        "class_weights = class_weight.compute_class_weight(class_weight='balanced', classes=np.unique(y_train), y=y_train)\n",
        "print(f\"Class weights: {class_weights}\")\n",
        "\n",
        "# Convert class weights to PyTorch tensor\n",
        "emotion_weights = torch.tensor(class_weights, dtype=torch.float).to(device)\n",
        "\n",
        "# Define the loss criterion using CrossEntropyLoss with class weights\n",
        "criterion = torch.nn.CrossEntropyLoss(\n",
        "    #weight=emotion_weights\n",
        ")"
      ]
    },
    {
      "cell_type": "code",
      "execution_count": null,
      "metadata": {
        "id": "3ey3b5qEVCsw"
      },
      "outputs": [],
      "source": [
        "# Define a testing function for the model\n",
        "def test(model, dataLoader):\n",
        "    model.eval()\n",
        "    fin_emotion_targets=[]\n",
        "    fin_emotion_outputs=[]\n",
        "    with torch.no_grad():\n",
        "        for batch_idx, data in enumerate(dataLoader, 0):\n",
        "            # Get data from the dataloader\n",
        "            length = len(data[\"ids\"])\n",
        "            ids = data['ids'].to(device, dtype=torch.long)\n",
        "            mask = data['mask'].to(device, dtype=torch.long)\n",
        "            token_type_ids = data['token_type_ids'].to(device, dtype=torch.long)\n",
        "            targets = data['targets'].to(device, dtype=torch.float)\n",
        "\n",
        "            # Forward pass through the model\n",
        "            outputs = model(ids, mask, token_type_ids)\n",
        "            fin_emotion_targets.extend(targets.cpu().detach().numpy().tolist())\n",
        "\n",
        "            # Convert model outputs to one-hot encoded predictions\n",
        "            fin_emotion_outputs.extend([[1 if i == torch.argmax(outputs, dim=1).cpu().detach().numpy()[d] else 0 for i in range(7)] for d in range(length)])\n",
        "    return fin_emotion_outputs, fin_emotion_targets"
      ]
    },
    {
      "cell_type": "markdown",
      "metadata": {
        "id": "hO7sgfHcVDxZ"
      },
      "source": [
        "### Freezed Model"
      ]
    },
    {
      "cell_type": "markdown",
      "metadata": {
        "id": "o1a2AuPf_ERL"
      },
      "source": [
        "We are supposed to implement our model in two different ways.First we implemented it with freezed model and then we implemented the full model."
      ]
    },
    {
      "cell_type": "code",
      "execution_count": null,
      "metadata": {
        "colab": {
          "base_uri": "https://localhost:8080/"
        },
        "id": "qjrz13tSVH37",
        "outputId": "eb9dd220-a63d-4bc1-cae0-2f9a38fcb18f"
      },
      "outputs": [
        {
          "data": {
            "text/plain": [
              "BERTClass(\n",
              "  (transformer): BertModel(\n",
              "    (embeddings): BertEmbeddings(\n",
              "      (word_embeddings): Embedding(30522, 768, padding_idx=0)\n",
              "      (position_embeddings): Embedding(512, 768)\n",
              "      (token_type_embeddings): Embedding(2, 768)\n",
              "      (LayerNorm): LayerNorm((768,), eps=1e-12, elementwise_affine=True)\n",
              "      (dropout): Dropout(p=0.1, inplace=False)\n",
              "    )\n",
              "    (encoder): BertEncoder(\n",
              "      (layer): ModuleList(\n",
              "        (0-11): 12 x BertLayer(\n",
              "          (attention): BertAttention(\n",
              "            (self): BertSelfAttention(\n",
              "              (query): Linear(in_features=768, out_features=768, bias=True)\n",
              "              (key): Linear(in_features=768, out_features=768, bias=True)\n",
              "              (value): Linear(in_features=768, out_features=768, bias=True)\n",
              "              (dropout): Dropout(p=0.1, inplace=False)\n",
              "            )\n",
              "            (output): BertSelfOutput(\n",
              "              (dense): Linear(in_features=768, out_features=768, bias=True)\n",
              "              (LayerNorm): LayerNorm((768,), eps=1e-12, elementwise_affine=True)\n",
              "              (dropout): Dropout(p=0.1, inplace=False)\n",
              "            )\n",
              "          )\n",
              "          (intermediate): BertIntermediate(\n",
              "            (dense): Linear(in_features=768, out_features=3072, bias=True)\n",
              "            (intermediate_act_fn): GELUActivation()\n",
              "          )\n",
              "          (output): BertOutput(\n",
              "            (dense): Linear(in_features=3072, out_features=768, bias=True)\n",
              "            (LayerNorm): LayerNorm((768,), eps=1e-12, elementwise_affine=True)\n",
              "            (dropout): Dropout(p=0.1, inplace=False)\n",
              "          )\n",
              "        )\n",
              "      )\n",
              "    )\n",
              "    (pooler): BertPooler(\n",
              "      (dense): Linear(in_features=768, out_features=768, bias=True)\n",
              "      (activation): Tanh()\n",
              "    )\n",
              "  )\n",
              "  (dropout): Dropout(p=0.3, inplace=False)\n",
              "  (dense1): Linear(in_features=768, out_features=384, bias=True)\n",
              "  (dense2): Linear(in_features=384, out_features=192, bias=True)\n",
              "  (dense3): Linear(in_features=192, out_features=7, bias=True)\n",
              ")"
            ]
          },
          "execution_count": 57,
          "metadata": {},
          "output_type": "execute_result"
        }
      ],
      "source": [
        "emo_model_frozen = BERTClass(card_name)\n",
        "emo_model_frozen.to(device)"
      ]
    },
    {
      "cell_type": "code",
      "execution_count": null,
      "metadata": {
        "id": "JWCjhGxwVKPv"
      },
      "outputs": [],
      "source": [
        "# Freeze the BERT weigths\n",
        "for param in emo_model_frozen.transformer.parameters():\n",
        "    param.requires_grad = False"
      ]
    },
    {
      "cell_type": "code",
      "execution_count": null,
      "metadata": {
        "id": "mELrr9YdVLhl"
      },
      "outputs": [],
      "source": [
        "# Calculate the total number of training steps\n",
        "total_steps = len(training_loader) * EMO_EPOCHS\n",
        "\n",
        "# Define the optimizer (AdamW) and learning rate scheduler\n",
        "optimizer = torch.optim.AdamW(params=emo_model_frozen.parameters(), lr=LEARNING_RATE)\n",
        "#scheduler = get_linear_schedule_with_warmup(optimizer, num_warmup_steps=int(0.1 * total_steps), num_training_steps=total_steps)"
      ]
    },
    {
      "cell_type": "code",
      "execution_count": null,
      "metadata": {
        "colab": {
          "base_uri": "https://localhost:8080/"
        },
        "id": "Tj_9eyFyVNIG",
        "outputId": "23442a8f-368b-45b8-be44-a8799baff911"
      },
      "outputs": [
        {
          "name": "stdout",
          "output_type": "stream",
          "text": [
            "Epoch no 1/5\n"
          ]
        },
        {
          "name": "stderr",
          "output_type": "stream",
          "text": [
            "100%|██████████| 6664/6664 [02:27<00:00, 45.18it/s]\n"
          ]
        },
        {
          "name": "stdout",
          "output_type": "stream",
          "text": [
            "1.53062536457435\n",
            "Saved PyTorch Model State to model.pth\n",
            "\n",
            "Epoch no 2/5\n"
          ]
        },
        {
          "name": "stderr",
          "output_type": "stream",
          "text": [
            "100%|██████████| 6664/6664 [02:33<00:00, 43.35it/s]\n"
          ]
        },
        {
          "name": "stdout",
          "output_type": "stream",
          "text": [
            "1.4608423176611744\n",
            "Saved PyTorch Model State to model.pth\n",
            "\n",
            "Epoch no 3/5\n"
          ]
        },
        {
          "name": "stderr",
          "output_type": "stream",
          "text": [
            "100%|██████████| 6664/6664 [02:33<00:00, 43.37it/s]\n"
          ]
        },
        {
          "name": "stdout",
          "output_type": "stream",
          "text": [
            "1.4263018334255355\n",
            "Saved PyTorch Model State to model.pth\n",
            "\n",
            "Epoch no 4/5\n"
          ]
        },
        {
          "name": "stderr",
          "output_type": "stream",
          "text": [
            "100%|██████████| 6664/6664 [02:33<00:00, 43.40it/s]\n"
          ]
        },
        {
          "name": "stdout",
          "output_type": "stream",
          "text": [
            "1.3925213026327818\n",
            "Saved PyTorch Model State to model.pth\n",
            "\n",
            "Epoch no 5/5\n"
          ]
        },
        {
          "name": "stderr",
          "output_type": "stream",
          "text": [
            "100%|██████████| 6664/6664 [02:33<00:00, 43.47it/s]\n"
          ]
        },
        {
          "name": "stdout",
          "output_type": "stream",
          "text": [
            "1.3707811727064425\n",
            "Saved PyTorch Model State to model.pth\n",
            "\n"
          ]
        }
      ],
      "source": [
        "# Initialize a list to store validation loss during training with frozen layers\n",
        "freezed_emo_val_loss = []\n",
        "\n",
        "# Initialize a variable to track the minimum validation loss\n",
        "val_loss_min = np.Inf\n",
        "\n",
        "# Training loop for the model with frozen layers\n",
        "for epoch in range(EMO_EPOCHS):\n",
        "  print(f\"Epoch no {epoch+1}/{EMO_EPOCHS}\")\n",
        "  train(emo_model_frozen,\n",
        "        training_loader,\n",
        "        optimizer,\n",
        "        #scheduler,\n",
        "        LEARNING_RATE,\n",
        "        EMO_EPOCHS,\n",
        "        epoch,\n",
        "        criterion)\n",
        "\n",
        "  # Update the minimum validation loss\n",
        "  val_loss_min = validation(epoch,\n",
        "                            #val_loss_min,\n",
        "                            emo_model_frozen,\n",
        "                            validation_loader,\n",
        "                            criterion,\n",
        "                            frozen=True\n",
        "                            )\n",
        "\n",
        "  # Append the current minimum validation loss to the list\n",
        "  freezed_emo_val_loss.append(val_loss_min)"
      ]
    },
    {
      "cell_type": "code",
      "execution_count": null,
      "metadata": {
        "id": "7f2CyCgMVPC3"
      },
      "outputs": [],
      "source": [
        "# Test the trained model and calculate emotion outputs and targets\n",
        "emotion_outputs, emotion_targets = test(emo_model_frozen, testing_loader)"
      ]
    },
    {
      "cell_type": "code",
      "execution_count": null,
      "metadata": {
        "colab": {
          "base_uri": "https://localhost:8080/"
        },
        "id": "haEi9_j7VQC5",
        "outputId": "6d6a8631-635c-48d7-aa1d-f2c601e86a72"
      },
      "outputs": [
        {
          "name": "stdout",
          "output_type": "stream",
          "text": [
            "              precision    recall  f1-score   support\n",
            "\n",
            "           0       0.51      0.95      0.66       352\n",
            "           1       0.40      0.32      0.35       101\n",
            "           2       1.00      0.00      0.00        25\n",
            "           3       1.00      0.00      0.00        71\n",
            "           4       0.31      0.17      0.22       154\n",
            "           5       1.00      0.00      0.00        24\n",
            "           6       0.56      0.08      0.15       107\n",
            "\n",
            "   micro avg       0.48      0.48      0.48       834\n",
            "   macro avg       0.68      0.22      0.20       834\n",
            "weighted avg       0.54      0.48      0.38       834\n",
            " samples avg       0.48      0.48      0.48       834\n",
            "\n"
          ]
        }
      ],
      "source": [
        "# Print a classification report based on the emotion outputs and targets\n",
        "print(classification_report(emotion_targets, emotion_outputs,\n",
        "                            #target_names = labels,\n",
        "                            zero_division=1))"
      ]
    },
    {
      "cell_type": "markdown",
      "metadata": {
        "id": "d9hixDrRVSOP"
      },
      "source": [
        "### Full Model"
      ]
    },
    {
      "cell_type": "code",
      "execution_count": null,
      "metadata": {
        "colab": {
          "base_uri": "https://localhost:8080/"
        },
        "id": "_hzbXhGmVV82",
        "outputId": "20f23b9d-14e9-468f-91f8-995de72547b6"
      },
      "outputs": [
        {
          "data": {
            "text/plain": [
              "BERTClass(\n",
              "  (transformer): BertModel(\n",
              "    (embeddings): BertEmbeddings(\n",
              "      (word_embeddings): Embedding(30522, 768, padding_idx=0)\n",
              "      (position_embeddings): Embedding(512, 768)\n",
              "      (token_type_embeddings): Embedding(2, 768)\n",
              "      (LayerNorm): LayerNorm((768,), eps=1e-12, elementwise_affine=True)\n",
              "      (dropout): Dropout(p=0.1, inplace=False)\n",
              "    )\n",
              "    (encoder): BertEncoder(\n",
              "      (layer): ModuleList(\n",
              "        (0-11): 12 x BertLayer(\n",
              "          (attention): BertAttention(\n",
              "            (self): BertSelfAttention(\n",
              "              (query): Linear(in_features=768, out_features=768, bias=True)\n",
              "              (key): Linear(in_features=768, out_features=768, bias=True)\n",
              "              (value): Linear(in_features=768, out_features=768, bias=True)\n",
              "              (dropout): Dropout(p=0.1, inplace=False)\n",
              "            )\n",
              "            (output): BertSelfOutput(\n",
              "              (dense): Linear(in_features=768, out_features=768, bias=True)\n",
              "              (LayerNorm): LayerNorm((768,), eps=1e-12, elementwise_affine=True)\n",
              "              (dropout): Dropout(p=0.1, inplace=False)\n",
              "            )\n",
              "          )\n",
              "          (intermediate): BertIntermediate(\n",
              "            (dense): Linear(in_features=768, out_features=3072, bias=True)\n",
              "            (intermediate_act_fn): GELUActivation()\n",
              "          )\n",
              "          (output): BertOutput(\n",
              "            (dense): Linear(in_features=3072, out_features=768, bias=True)\n",
              "            (LayerNorm): LayerNorm((768,), eps=1e-12, elementwise_affine=True)\n",
              "            (dropout): Dropout(p=0.1, inplace=False)\n",
              "          )\n",
              "        )\n",
              "      )\n",
              "    )\n",
              "    (pooler): BertPooler(\n",
              "      (dense): Linear(in_features=768, out_features=768, bias=True)\n",
              "      (activation): Tanh()\n",
              "    )\n",
              "  )\n",
              "  (dropout): Dropout(p=0.3, inplace=False)\n",
              "  (dense1): Linear(in_features=768, out_features=384, bias=True)\n",
              "  (dense2): Linear(in_features=384, out_features=192, bias=True)\n",
              "  (dense3): Linear(in_features=192, out_features=7, bias=True)\n",
              ")"
            ]
          },
          "execution_count": 67,
          "metadata": {},
          "output_type": "execute_result"
        }
      ],
      "source": [
        "# Initialize a new instance of the model without frozen layers\n",
        "emo_model_full = BERTClass(card_name)\n",
        "emo_model_full.to(device)"
      ]
    },
    {
      "cell_type": "code",
      "execution_count": null,
      "metadata": {
        "id": "HzfEuBSzVYWf"
      },
      "outputs": [],
      "source": [
        "# Create a new optimizer and scheduler\n",
        "LEARNING_RATE = 1e-05\n",
        "optimizer = torch.optim.AdamW(params=emo_model_full.parameters(), lr=LEARNING_RATE)\n",
        "#scheduler = lr_scheduler.StepLR(optimizer, step_size=3, gamma=0.5)"
      ]
    },
    {
      "cell_type": "code",
      "execution_count": null,
      "metadata": {
        "colab": {
          "background_save": true,
          "base_uri": "https://localhost:8080/"
        },
        "id": "p7_Er6p8VY37",
        "outputId": "cf42aadf-3a24-4053-ab2a-8293a036c973"
      },
      "outputs": [
        {
          "name": "stdout",
          "output_type": "stream",
          "text": [
            "Epoch no 1/5\n"
          ]
        },
        {
          "name": "stderr",
          "output_type": "stream",
          "text": [
            "100%|██████████| 6664/6664 [10:21<00:00, 10.72it/s]\n"
          ]
        },
        {
          "name": "stdout",
          "output_type": "stream",
          "text": [
            "1.3067054063627341\n",
            "Saved PyTorch Model State to model.pth\n",
            "\n",
            "Epoch no 2/5\n"
          ]
        },
        {
          "name": "stderr",
          "output_type": "stream",
          "text": [
            "100%|██████████| 6664/6664 [10:20<00:00, 10.74it/s]\n"
          ]
        },
        {
          "name": "stdout",
          "output_type": "stream",
          "text": [
            "1.3824920302071348\n",
            "Saved PyTorch Model State to model.pth\n",
            "\n",
            "Epoch no 3/5\n"
          ]
        },
        {
          "name": "stderr",
          "output_type": "stream",
          "text": [
            "100%|██████████| 6664/6664 [10:20<00:00, 10.75it/s]\n"
          ]
        },
        {
          "name": "stdout",
          "output_type": "stream",
          "text": [
            "1.55822868267631\n",
            "Saved PyTorch Model State to model.pth\n",
            "\n",
            "Epoch no 4/5\n"
          ]
        },
        {
          "name": "stderr",
          "output_type": "stream",
          "text": [
            "100%|██████████| 6664/6664 [10:21<00:00, 10.73it/s]\n"
          ]
        },
        {
          "name": "stdout",
          "output_type": "stream",
          "text": [
            "1.7538576781289095\n",
            "Saved PyTorch Model State to model.pth\n",
            "\n",
            "Epoch no 5/5\n"
          ]
        },
        {
          "name": "stderr",
          "output_type": "stream",
          "text": [
            "100%|██████████| 6664/6664 [10:19<00:00, 10.75it/s]\n"
          ]
        },
        {
          "name": "stdout",
          "output_type": "stream",
          "text": [
            "1.84053249087292\n",
            "Saved PyTorch Model State to model.pth\n",
            "\n"
          ]
        }
      ],
      "source": [
        "# Initialize a list to store validation loss during training without frozen layers\n",
        "emo_val_loss = []\n",
        "EMO_EPOCHS = 1\n",
        "\n",
        "# Training loop for the model without frozen layers\n",
        "for epoch in range(EMO_EPOCHS):\n",
        "    print(f\"Epoch no {epoch+1}/{EMO_EPOCHS}\")\n",
        "    train(emo_model_full,\n",
        "          training_loader,\n",
        "          optimizer,\n",
        "          #scheduler,\n",
        "          LEARNING_RATE,\n",
        "          EMO_EPOCHS,\n",
        "          epoch,\n",
        "          criterion)\n",
        "\n",
        "    # Update the minimum validation loss\n",
        "    val_loss = validation(epoch,\n",
        "                          emo_model_full,\n",
        "                          validation_loader,\n",
        "                          criterion)\n",
        "\n",
        "    # Append the current minimum validation loss to the list\n",
        "    emo_val_loss.append(val_loss)"
      ]
    },
    {
      "cell_type": "code",
      "execution_count": null,
      "metadata": {
        "colab": {
          "background_save": true
        },
        "id": "p2eBsMtNWiip",
        "outputId": "1a674bd5-6f40-4451-9af2-27f0efcc7858"
      },
      "outputs": [
        {
          "name": "stdout",
          "output_type": "stream",
          "text": [
            "              precision    recall  f1-score   support\n",
            "\n",
            "           0       0.64      0.86      0.73       352\n",
            "           1       0.52      0.53      0.53       101\n",
            "           2       1.00      0.00      0.00        25\n",
            "           3       0.50      0.14      0.22        71\n",
            "           4       0.51      0.56      0.53       154\n",
            "           5       1.00      0.00      0.00        24\n",
            "           6       0.54      0.35      0.42       107\n",
            "\n",
            "   micro avg       0.59      0.59      0.59       834\n",
            "   macro avg       0.67      0.35      0.35       834\n",
            "weighted avg       0.60      0.59      0.55       834\n",
            " samples avg       0.59      0.59      0.59       834\n",
            "\n"
          ]
        }
      ],
      "source": [
        "# emo_model_full.load_state_dict(torch.load('emo_model_Full_10.pth'))\n",
        "# emo_model_full = emo_model_full.to(device)\n",
        "\n",
        "# Test the trained model and calculate emotion outputs and targets\n",
        "emotion_outputs, emotion_targets = test(emo_model_full, testing_loader)\n",
        "# Print a classification report based on the emotion outputs and targets\n",
        "print(classification_report(emotion_targets, emotion_outputs,\n",
        "                            #target_names = labels,\n",
        "                            zero_division=1))"
      ]
    },
    {
      "cell_type": "code",
      "execution_count": null,
      "metadata": {
        "id": "zoNS5JooL55L"
      },
      "outputs": [],
      "source": [
        "def sequence_test(model, dataLoader):\n",
        "    model.eval()\n",
        "    fin_emotion_targets=[]\n",
        "    fin_emotion_outputs=[]\n",
        "    with torch.no_grad():\n",
        "        for batch_idx, data in enumerate(dataLoader, 0):\n",
        "            # Get data from the dataloader\n",
        "            length = len(data[\"ids\"])\n",
        "            ids = data['ids'].to(device, dtype=torch.long)\n",
        "            mask = data['mask'].to(device, dtype=torch.long)\n",
        "            token_type_ids = data['token_type_ids'].to(device, dtype=torch.long)\n",
        "            targets = data['targets'].to(device, dtype=torch.float)\n",
        "\n",
        "            one_sequence_fin_emotion_targets = []\n",
        "            one_sequence_fin_emotion_outputs = []\n",
        "            for i in range(length):\n",
        "              # Forward pass through the model\n",
        "              outputs = model(ids, mask, token_type_ids)\n",
        "              one_sequence_fin_emotion_targets.extend(targets.cpu().detach().numpy().tolist())\n",
        "\n",
        "              # Convert model outputs to one-hot encoded predictions\n",
        "              one_sequence_fin_emotion_outputs.extend([[1 if i == torch.argmax(outputs, dim=1).cpu().detach().numpy()[d] else 0 for i in range(7)] for d in range(length)])\n",
        "\n",
        "            fin_emotion_targets.extend(one_sequence_fin_emotion_targets)\n",
        "            fin_emotion_outputs.extend(one_sequence_fin_emotion_outputs)\n",
        "\n",
        "    return fin_emotion_outputs, fin_emotion_targets"
      ]
    },
    {
      "cell_type": "code",
      "execution_count": null,
      "metadata": {
        "id": "YHJvYbMqVZ7H"
      },
      "outputs": [],
      "source": [
        "# Test the trained model and calculate emotion outputs and targets\n",
        "emotion_outputs, emotion_targets = test(emo_model_full, testing_loader)"
      ]
    },
    {
      "cell_type": "code",
      "execution_count": null,
      "metadata": {
        "colab": {
          "base_uri": "https://localhost:8080/"
        },
        "id": "ZjWmz9BqVbjo",
        "outputId": "0fe99761-6f13-421a-c9f8-dcade51fd9d9"
      },
      "outputs": [
        {
          "name": "stdout",
          "output_type": "stream",
          "text": [
            "              precision    recall  f1-score   support\n",
            "\n",
            "           0       0.74      0.82      0.78       394\n",
            "           1       0.30      0.77      0.43        97\n",
            "           2       0.12      0.18      0.14        17\n",
            "           3       1.00      0.00      0.00        55\n",
            "           4       0.86      0.16      0.28       146\n",
            "           5       1.00      0.00      0.00        27\n",
            "           6       0.36      0.33      0.34        98\n",
            "\n",
            "   micro avg       0.55      0.55      0.55       834\n",
            "   macro avg       0.62      0.32      0.28       834\n",
            "weighted avg       0.68      0.55      0.51       834\n",
            " samples avg       0.55      0.55      0.55       834\n",
            "\n"
          ]
        }
      ],
      "source": [
        "# Print a classification report based on the emotion outputs and targets\n",
        "print(classification_report(emotion_targets, emotion_outputs,\n",
        "                            #target_names = labels,\n",
        "                            zero_division=1))"
      ]
    },
    {
      "cell_type": "code",
      "execution_count": null,
      "metadata": {
        "colab": {
          "base_uri": "https://localhost:8080/",
          "height": 472
        },
        "id": "bLB1INJFVduq",
        "outputId": "895ca437-3b49-4a3a-a0f5-3ff4f989b9ff"
      },
      "outputs": [
        {
          "data": {
            "image/png": "[encoded data removed]",
            "text/plain": [
              "<Figure size 640x480 with 1 Axes>"
            ]
          },
          "metadata": {},
          "output_type": "display_data"
        }
      ],
      "source": [
        "# Plot validation loss for both the frozen and full models\n",
        "plt.plot(freezed_emo_val_loss, color=\"orange\", label=\"Freezed model\")\n",
        "plt.plot(emo_val_loss, color=\"b\", label=\"Full model\")\n",
        "plt.ylabel(\"Validation_loss\")\n",
        "plt.xlabel(\"Epochs\")\n",
        "plt.title(\"Loss validation of the emotions models\")\n",
        "plt.legend()\n",
        "plt.show()"
      ]
    },
    {
      "cell_type": "markdown",
      "metadata": {
        "id": "eOkGtTR4QHNB"
      },
      "source": [
        "### Testing the f1 metric functions:"
      ]
    },
    {
      "cell_type": "code",
      "execution_count": null,
      "metadata": {
        "colab": {
          "base_uri": "https://localhost:8080/"
        },
        "id": "7OKMOdSYUjf1",
        "outputId": "5ca66346-2c4e-4d26-fc00-5b2aaaa25c3f"
      },
      "outputs": [
        {
          "name": "stdout",
          "output_type": "stream",
          "text": [
            "Sequence F1 Score: 0.4838129496402878\n",
            "Unrolled Sequence F1 Score: 0.48381294964028776\n"
          ]
        }
      ],
      "source": [
        "# Define a function to compute the unrolled sequence F1 score\n",
        "def compute_unrolled_sequence_f1(true_labels, pred_labels):\n",
        "    # Concatenate true and predicted labels to calculate F1 score\n",
        "    unrolled_true = np.concatenate([np.array(dialogue) for dialogue in true_labels])\n",
        "    unrolled_pred = np.concatenate([np.array(dialogue) for dialogue in pred_labels])\n",
        "    return f1_score(unrolled_true, unrolled_pred, average='macro')\n",
        "\n",
        "# Define a function to compute the sequence F1 score\n",
        "def compute_sequence_f1(true_labels, pred_labels):\n",
        "    # Calculate F1 scores for individual dialogues and average them\n",
        "    f1_scores = []\n",
        "    for dialogue_true, dialogue_pred in zip(true_labels, pred_labels):\n",
        "        f1 = f1_score(dialogue_true, dialogue_pred, average='macro')\n",
        "        f1_scores.append(f1)\n",
        "    return np.mean(f1_scores)\n",
        "\n",
        "# Compute sequence F1 and unrolled sequence F1 scores\n",
        "sequence_f1 = compute_sequence_f1(emotion_targets, emotion_outputs)\n",
        "unrolled_sequence_f1 = compute_unrolled_sequence_f1(emotion_targets, emotion_outputs)\n",
        "\n",
        "# Print the computed F1 scores\n",
        "print(f\"Sequence F1 Score: {sequence_f1}\")\n",
        "print(f\"Unrolled Sequence F1 Score: {unrolled_sequence_f1}\")"
      ]
    },
    {
      "cell_type": "markdown",
      "metadata": {
        "id": "hhK_Ibykqfnm"
      },
      "source": [
        "# Trigger Model"
      ]
    },
    {
      "cell_type": "markdown",
      "metadata": {
        "id": "RBO7j1Zh_YTu"
      },
      "source": [
        "\n",
        "In this phase, we have developed a dedicated BERT model tailored specifically for identifying triggers within conversations. Unlike the emotion recognition task where the context of surrounding utterances is disregarded, trigger detection requires a broader understanding of the conversation flow. To achieve this, we employ a process that involves concatenating the emotions derived from our specialized emotion BERT model with the entirety of the conversation.\n",
        "\n",
        "The key distinction lies in our approach to trigger detection, wherein we capitalize on the cumulative emotional context of the conversation. We concatenate the identified emotions with the complete conversation and iteratively evaluate each utterance within the context of the entire dialogue. This iterative process involves looping through the conversation as many times as there are utterances, augmenting the text with the previously identified emotional triggers.\n",
        "\n",
        "By amalgamating the emotional cues with the conversation's text iteratively, our model gains a more comprehensive understanding of the emotional dynamics at play within the dialogue. This method enables the model to discern whether each utterance serves as a trigger, thereby enhancing the accuracy and robustness of our trigger detection mechanism."
      ]
    },
    {
      "cell_type": "code",
      "execution_count": null,
      "metadata": {
        "id": "V5g-9zOptoBs"
      },
      "outputs": [],
      "source": [
        "# Function to expand the dataframe by splitting multi-speaker dialogues\n",
        "def dataExtender(df):\n",
        "  rows = []\n",
        "  for i1 in range(df.shape[0]):\n",
        "    for i2, _ in enumerate(df.iloc[i1]['speakers']):\n",
        "      new_row = pd.DataFrame({'speakers': [df.iloc[i1]['speakers']],\n",
        "                          'emotions': [df.iloc[i1]['emotions']],\n",
        "                          'utterances': [df.iloc[i1]['utterances']],\n",
        "                          'triggers': [df.iloc[i1]['triggers'][:i2+1]],\n",
        "                          'id': i1})\n",
        "      rows.append(new_row)\n",
        "  return pd.concat(rows, ignore_index=True)"
      ]
    },
    {
      "cell_type": "code",
      "execution_count": null,
      "metadata": {
        "id": "vyB6zmnSviPS"
      },
      "outputs": [],
      "source": [
        "# Expand the training, validation, and test dataframes\n",
        "tri_df_train = dataExtender(df_train)\n",
        "tri_df_validation = dataExtender(df_validation)\n",
        "tri_df_test = dataExtender(df_test)"
      ]
    },
    {
      "cell_type": "code",
      "execution_count": null,
      "metadata": {
        "id": "DFRLgGvbtDAE"
      },
      "outputs": [],
      "source": [
        "# Define the TriggerDataset class for the expanded data\n",
        "class TriggerDataset(Dataset):\n",
        "\n",
        "    def __init__(self, dataframe, tokenizer, max_len, emotion_item_to_number, emotion_number_to_one_hot):\n",
        "        # Initialize the dataset with necessary parameters and data\n",
        "        self.tokenizer = tokenizer\n",
        "        self.max_len = max_len\n",
        "        self.emotion_item_to_number = emotion_item_to_number\n",
        "        self.emotion_number_to_one_hot = emotion_number_to_one_hot\n",
        "\n",
        "        self.data = dataframe\n",
        "        self.speakers = dataframe.speakers\n",
        "        self.utterances = dataframe.utterances\n",
        "        self.emotions = dataframe.emotions\n",
        "        self.triggers = dataframe.triggers\n",
        "\n",
        "    def __len__(self):\n",
        "        # Define the length of the dataset (number of data samples)\n",
        "        return len(self.data)\n",
        "\n",
        "    def __getitem__(self, index):\n",
        "        # Get a specific data sample at the given index\n",
        "        row = self.data.iloc[index]\n",
        "        speakers = row['speakers']\n",
        "        utterances = row['utterances']\n",
        "        emotions = row['emotions']\n",
        "        triggers = row['triggers']\n",
        "        target = triggers[-1]\n",
        "\n",
        "        # # Construct the text input by concatenating speakers, utterances, emotions, and triggers\n",
        "        # text = ''\n",
        "        # for i, d in enumerate(speakers):\n",
        "        #     text = text + f\"[{d}]:{utterances[i]}\"\n",
        "\n",
        "        # text = text + ' emotions: '\n",
        "\n",
        "        # for i in range(len(emotions)):\n",
        "        #     text = text + f'{emotions[i]},'\n",
        "\n",
        "        # text = text + ' triggers: '\n",
        "\n",
        "        # for i in range(len(triggers)-1):\n",
        "        #     text = text + f'{triggers[i]} '\n",
        "\n",
        "        text = ''\n",
        "        for i, d in enumerate(speakers):\n",
        "            text = text + f\"[{d}]:{utterances[i]} {'TRIGGER' if i == len(triggers)-1 else ''} \"\n",
        "            #text = text + f\"[{d}]:{utterances[i]} {#emotions[i]} {'TRIGGER' if i == len(triggers)-1 else ''} \"\n",
        "\n",
        "        # print(len(speakers))\n",
        "        # print(triggers)\n",
        "        # print(text)\n",
        "\n",
        "        # Tokenize and preprocess the input data using the tokenizer\n",
        "        inputs = self.tokenizer.encode_plus(\n",
        "            text,\n",
        "            None,\n",
        "            add_special_tokens=True,\n",
        "            max_length=self.max_len,\n",
        "            truncation=True,\n",
        "            padding='max_length',\n",
        "            return_token_type_ids=True\n",
        "        )\n",
        "\n",
        "        ids = inputs['input_ids']\n",
        "        mask = inputs['attention_mask']\n",
        "        token_type_ids = inputs[\"token_type_ids\"]\n",
        "\n",
        "        return {\n",
        "            'ids': torch.tensor(ids, dtype=torch.long),\n",
        "            'mask': torch.tensor(mask, dtype=torch.long),\n",
        "            'token_type_ids': torch.tensor(token_type_ids, dtype=torch.long),\n",
        "            'targets': torch.tensor(target, dtype=torch.float),\n",
        "            #'id': torch.tensor(id, dtype=torch.long)\n",
        "        }"
      ]
    },
    {
      "cell_type": "code",
      "execution_count": null,
      "metadata": {
        "id": "uQfjelszppmQ"
      },
      "outputs": [],
      "source": [
        "# Create datasets and data loaders for the trigger classification task\n",
        "tri_training_set = TriggerDataset(tri_df_train, tokenizer, MAX_LEN_TRI, emotion_item_to_number, emotion_number_to_one_hot)\n",
        "tri_validation_set = TriggerDataset(tri_df_validation, tokenizer, MAX_LEN_TRI, emotion_item_to_number, emotion_number_to_one_hot)\n",
        "tri_testing_set = TriggerDataset(tri_df_test, tokenizer, MAX_LEN_TRI, emotion_item_to_number, emotion_number_to_one_hot)"
      ]
    },
    {
      "cell_type": "code",
      "execution_count": null,
      "metadata": {
        "id": "C0IKedaytCZg"
      },
      "outputs": [],
      "source": [
        "# Define parameters for data loaders\n",
        "train_params = {'batch_size': TRAIN_BATCH_SIZE,\n",
        "                'shuffle': False,\n",
        "                'num_workers': 0\n",
        "                }\n",
        "\n",
        "validation_params = {'batch_size': VALID_BATCH_SIZE,\n",
        "                'shuffle': True,\n",
        "                'num_workers': 0\n",
        "                }\n",
        "\n",
        "test_params = {'batch_size': VALID_BATCH_SIZE,\n",
        "                'shuffle': True,\n",
        "                'num_workers': 0\n",
        "                }\n",
        "\n",
        "# Create data loaders for training, validation, and testing\n",
        "tri_training_loader = DataLoader(tri_training_set, **train_params)\n",
        "tri_validation_loader = DataLoader(tri_validation_set, **validation_params)\n",
        "tri_testing_loader = DataLoader(tri_testing_set, **test_params)"
      ]
    },
    {
      "cell_type": "code",
      "execution_count": null,
      "metadata": {
        "id": "ZVDd9NuOwj6N"
      },
      "outputs": [],
      "source": [
        "# Creating the customized model, by adding a drop out and a dense layer on top of distil bert to get the final output for the model.\n",
        "import torch.nn.functional as F\n",
        "\n",
        "# Define the BERT-based model for trigger classification\n",
        "class BERTClass(torch.nn.Module):\n",
        "    def __init__(self, card_name):\n",
        "        super(BERTClass, self).__init__()\n",
        "        self.transformer = AutoModel.from_pretrained(card_name, return_dict=False)\n",
        "        self.dropout = torch.nn.Dropout(0.3)\n",
        "        if card_name == 'bert-base-uncased' :\n",
        "            self.dense1 = torch.nn.Linear(768, 384)\n",
        "        elif card_name == 'prajjwal1/bert-tiny' :\n",
        "            self.dense1 = torch.nn.Linear(128, 384)\n",
        "        self.dense2 = torch.nn.Linear(384, 192)\n",
        "        self.dense3 = torch.nn.Linear(192, 1)\n",
        "\n",
        "    def forward(self, ids, mask, token_type_ids):\n",
        "        _, output = self.transformer(ids, attention_mask = mask, token_type_ids = token_type_ids, return_dict=False)\n",
        "        output = self.dropout(output)\n",
        "        output = self.dense1(output)\n",
        "        output = F.relu(output)\n",
        "        output = self.dense2(output)\n",
        "        output = F.relu(output)\n",
        "        output = self.dense3(output)\n",
        "        return output\n"
      ]
    },
    {
      "cell_type": "code",
      "execution_count": null,
      "metadata": {
        "id": "fB70TV9bVqwl"
      },
      "outputs": [],
      "source": [
        "# Training function for the trigger classification model\n",
        "def train(model, dataloader, optimizer,\n",
        "          #scheduler,\n",
        "          LEARNING_RATE, EPOCHS, epoch, criterion):\n",
        "    size = len(dataloader.dataset)\n",
        "    total_items = len(dataloader)\n",
        "    model.train()\n",
        "\n",
        "    for batch, data in tqdm(enumerate(dataloader, 0), total=total_items):\n",
        "        ids = data['ids'].to(device, dtype=torch.long)\n",
        "        mask = data['mask'].to(device, dtype=torch.long)\n",
        "        token_type_ids = data['token_type_ids'].to(device, dtype=torch.long)\n",
        "        targets = data['targets'].to(device, dtype=torch.float)\n",
        "\n",
        "        # Zero out gradients\n",
        "        optimizer.zero_grad()\n",
        "\n",
        "        outputs = model(ids, mask, token_type_ids)\n",
        "\n",
        "        # Compute the loss and backpropagate\n",
        "        loss = criterion(outputs.squeeze(dim=1), targets)\n",
        "        loss.backward()\n",
        "        optimizer.step()\n",
        "        #scheduler.step()\n",
        "\n",
        "        # if batch % 5000 == 0:\n",
        "        #     print(f'Epoch: {epoch}, Loss:  {loss.item()}')\n",
        "        #     print()\n",
        "\n",
        "        # if batch % 100 == 0:\n",
        "        #     loss, current = loss.item(), batch * len(ids)\n",
        "        #     print(f\"Train loss: {loss:>7f}  [{current:>5d}/{size:>5d}]\")"
      ]
    },
    {
      "cell_type": "code",
      "execution_count": null,
      "metadata": {
        "id": "UddGUnKmVwyR"
      },
      "outputs": [],
      "source": [
        "# Validation function for trigger classification\n",
        "def validation(epoch, val_loss_min_input, model, dataloader, criterion, frozen=False):\n",
        "    # Calculate validation loss and check for improvement\n",
        "    num_batches = len(dataloader)\n",
        "    model.eval()\n",
        "    val_loss = 0\n",
        "    with torch.no_grad():\n",
        "        for batch_idx, data in enumerate(dataloader, 0):\n",
        "            # Extract data from the dataloader\n",
        "            ids = data['ids'].to(device, dtype=torch.long)\n",
        "            mask = data['mask'].to(device, dtype=torch.long)\n",
        "            token_type_ids = data['token_type_ids'].to(device, dtype=torch.long)\n",
        "            targets = data['targets'].to(device, dtype=torch.float)\n",
        "            outputs = model(ids, mask, token_type_ids)\n",
        "            val_loss += criterion(outputs.squeeze(dim=1), targets).item()\n",
        "\n",
        "        val_loss /= num_batches\n",
        "        print(val_loss)\n",
        "        print(f\"\\nValidation loss: {val_loss:>8f}.\")\n",
        "\n",
        "        # Save the model if validation loss has decreased\n",
        "        if val_loss <= val_loss_min_input:\n",
        "            if epoch > 0:\n",
        "                print('Validation loss decreased ({:.8f} --> {:.8f}).  Saving model ...'.format(val_loss_min_input, val_loss))\n",
        "            else:\n",
        "                print('Saving model ...')\n",
        "            # Save the best model\n",
        "            torch.save(model.state_dict(), f\"tri_model_{'Frozen' if frozen else 'Full'}_{epoch+1}.pth\")\n",
        "            print(\"Saved PyTorch Model State to model.pth\\n\")\n",
        "            val_loss_min_input = val_loss\n",
        "        else:\n",
        "            print('Validation loss didn\\'t go down -____-')\n",
        "\n",
        "    return val_loss_min_input"
      ]
    },
    {
      "cell_type": "code",
      "execution_count": null,
      "metadata": {
        "id": "InjWicaZVyyD"
      },
      "outputs": [],
      "source": [
        "tri_df_train['last_item'] = tri_df_train['triggers'].apply(lambda x: x[-1])\n",
        "\n",
        "# Calculate class weights for trigger classification\n",
        "y_train_trigger_tensor = torch.LongTensor(tri_df_train['last_item'].values)\n",
        "unique_triggers = torch.unique(y_train_trigger_tensor).numpy()\n",
        "trigger_weights = compute_class_weight('balanced', classes=unique_triggers, y=y_train_trigger_tensor.numpy())\n",
        "trigger_weights = torch.FloatTensor(trigger_weights).detach().to(device)\n",
        "\n",
        "# Define the criterion for trigger classification\n",
        "criterion = torch.nn.BCEWithLogitsLoss(\n",
        "    #pos_weight=(trigger_weights[1]/trigger_weights[0]).detach()\n",
        "    )"
      ]
    },
    {
      "cell_type": "code",
      "execution_count": null,
      "metadata": {
        "id": "V0H8xeoXV0Hj"
      },
      "outputs": [],
      "source": [
        "# Function to get the threshold for trigger classification\n",
        "def get_threshold(tri_model, dataLoader):\n",
        "    # Evaluate different thresholds and choose the one with the highest F1 score\n",
        "    tri_model.eval()\n",
        "    fin_trigger_targets=[]\n",
        "    fin_trigger_outputs=[]\n",
        "    with torch.no_grad():\n",
        "        for batch_idx, data in enumerate(dataLoader, 0):\n",
        "            length = len(data)\n",
        "            ids = data['ids'].to(device, dtype = torch.long)\n",
        "            mask = data['mask'].to(device, dtype = torch.long)\n",
        "            token_type_ids = data['token_type_ids'].to(device, dtype = torch.long)\n",
        "            targets = data['targets'].to(device, dtype = torch.float)\n",
        "            outputs = tri_model(ids, mask, token_type_ids)\n",
        "            fin_trigger_targets.extend(targets.cpu().detach().numpy().tolist())\n",
        "            fin_trigger_outputs.extend(torch.sigmoid(outputs.squeeze(dim=1)).cpu().detach().numpy().tolist())\n",
        "\n",
        "    results = {}\n",
        "    for tr in np.arange(0.1, 0.9, 0.01):\n",
        "        tr = round(tr, 2)\n",
        "        predictions= np.array(fin_trigger_outputs) >= tr\n",
        "        results[tr] = f1_score(fin_trigger_targets, predictions, average='macro')\n",
        "    return max(results,key=results.get)"
      ]
    },
    {
      "cell_type": "code",
      "execution_count": null,
      "metadata": {
        "id": "q6Mb83nCV1Ob"
      },
      "outputs": [],
      "source": [
        "# Function to test the trigger classification model\n",
        "def test(model, dataLoader, threshold):\n",
        "    # Evaluate the model on the test data using the selected threshold\n",
        "    model.eval()\n",
        "    fin_trigger_targets=[]\n",
        "    fin_trigger_outputs=[]\n",
        "    with torch.no_grad():\n",
        "        for batch_idx, data in enumerate(dataLoader, 0):\n",
        "            length = len(data[\"ids\"])\n",
        "            ids = data['ids'].to(device, dtype = torch.long)\n",
        "            mask = data['mask'].to(device, dtype = torch.long)\n",
        "            token_type_ids = data['token_type_ids'].to(device, dtype = torch.long)\n",
        "            targets = data['targets'].to(device, dtype = torch.float)\n",
        "\n",
        "            outputs = model(ids, mask, token_type_ids)\n",
        "            fin_trigger_targets.extend(targets.cpu().detach().numpy().tolist())\n",
        "            fin_trigger_outputs.extend(torch.sigmoid(outputs).cpu().detach().numpy().tolist())\n",
        "\n",
        "    return np.array(fin_trigger_outputs >= threshold).astype(int).tolist(), fin_trigger_targets"
      ]
    },
    {
      "cell_type": "markdown",
      "metadata": {
        "id": "r9Yf5ohYV8yW"
      },
      "source": [
        "### Freezed Model"
      ]
    },
    {
      "cell_type": "code",
      "execution_count": null,
      "metadata": {
        "colab": {
          "base_uri": "https://localhost:8080/",
          "height": 865,
          "referenced_widgets": [
            "ebf0ad8ccfeb4e3288a275ac49809b58",
            "217ac133b8e14703a0fda55f5973cfb4",
            "5c1513e03c49474c8f0ea28d30998c77",
            "91a0ac254ffa4ca9a0f061ac082e77a1",
            "040b8ebd6fef45c38ea830938b726996",
            "1eaa3b0ffb1a4206a9f8ec7080005513",
            "37bc9ab3aae34dc2a0470765eaf9de73",
            "69e0d1e285744b3c98786cb170c0adda",
            "b0ef006624da4f59a4d758324cbade94",
            "d355eea8615e48d796add02941186505",
            "070de6816f62446a99592ae97f846fb4"
          ]
        },
        "id": "J6ZV7ZNAV-PN",
        "outputId": "20997a4f-a5f1-4f2c-af60-309af607d654"
      },
      "outputs": [
        {
          "output_type": "display_data",
          "data": {
            "text/plain": [
              "pytorch_model.bin:   0%|          | 0.00/17.8M [00:00<?, ?B/s]"
            ],
            "application/vnd.jupyter.widget-view+json": {
              "version_major": 2,
              "version_minor": 0,
              "model_id": "ebf0ad8ccfeb4e3288a275ac49809b58"
            }
          },
          "metadata": {}
        },
        {
          "output_type": "execute_result",
          "data": {
            "text/plain": [
              "BERTClass(\n",
              "  (transformer): BertModel(\n",
              "    (embeddings): BertEmbeddings(\n",
              "      (word_embeddings): Embedding(30522, 128, padding_idx=0)\n",
              "      (position_embeddings): Embedding(512, 128)\n",
              "      (token_type_embeddings): Embedding(2, 128)\n",
              "      (LayerNorm): LayerNorm((128,), eps=1e-12, elementwise_affine=True)\n",
              "      (dropout): Dropout(p=0.1, inplace=False)\n",
              "    )\n",
              "    (encoder): BertEncoder(\n",
              "      (layer): ModuleList(\n",
              "        (0-1): 2 x BertLayer(\n",
              "          (attention): BertAttention(\n",
              "            (self): BertSelfAttention(\n",
              "              (query): Linear(in_features=128, out_features=128, bias=True)\n",
              "              (key): Linear(in_features=128, out_features=128, bias=True)\n",
              "              (value): Linear(in_features=128, out_features=128, bias=True)\n",
              "              (dropout): Dropout(p=0.1, inplace=False)\n",
              "            )\n",
              "            (output): BertSelfOutput(\n",
              "              (dense): Linear(in_features=128, out_features=128, bias=True)\n",
              "              (LayerNorm): LayerNorm((128,), eps=1e-12, elementwise_affine=True)\n",
              "              (dropout): Dropout(p=0.1, inplace=False)\n",
              "            )\n",
              "          )\n",
              "          (intermediate): BertIntermediate(\n",
              "            (dense): Linear(in_features=128, out_features=512, bias=True)\n",
              "            (intermediate_act_fn): GELUActivation()\n",
              "          )\n",
              "          (output): BertOutput(\n",
              "            (dense): Linear(in_features=512, out_features=128, bias=True)\n",
              "            (LayerNorm): LayerNorm((128,), eps=1e-12, elementwise_affine=True)\n",
              "            (dropout): Dropout(p=0.1, inplace=False)\n",
              "          )\n",
              "        )\n",
              "      )\n",
              "    )\n",
              "    (pooler): BertPooler(\n",
              "      (dense): Linear(in_features=128, out_features=128, bias=True)\n",
              "      (activation): Tanh()\n",
              "    )\n",
              "  )\n",
              "  (dropout): Dropout(p=0.3, inplace=False)\n",
              "  (dense1): Linear(in_features=128, out_features=384, bias=True)\n",
              "  (dense2): Linear(in_features=384, out_features=192, bias=True)\n",
              "  (dense3): Linear(in_features=192, out_features=1, bias=True)\n",
              ")"
            ]
          },
          "metadata": {},
          "execution_count": 49
        }
      ],
      "source": [
        "# Initialize the trigger classification model and move it to the device\n",
        "tri_model_frozen = BERTClass(card_name)\n",
        "tri_model_frozen.to(device)"
      ]
    },
    {
      "cell_type": "code",
      "execution_count": null,
      "metadata": {
        "id": "g67MtLP5WAqs"
      },
      "outputs": [],
      "source": [
        "# Freeze the BERT weigths\n",
        "for param in tri_model_frozen.transformer.parameters():\n",
        "    param.requires_grad = False"
      ]
    },
    {
      "cell_type": "code",
      "execution_count": null,
      "metadata": {
        "id": "Lbc7G7RKWBva"
      },
      "outputs": [],
      "source": [
        "# Define training parameters and create optimizer and scheduler\n",
        "total_steps = len(tri_training_loader)*TRI_EPOCHS\n",
        "\n",
        "optimizer = torch.optim.AdamW(params=tri_model_frozen.parameters(), lr=LEARNING_RATE)\n",
        "#scheduler = get_linear_schedule_with_warmup(optimizer, num_warmup_steps=int(0.1 * total_steps), num_training_steps=total_steps)"
      ]
    },
    {
      "cell_type": "code",
      "execution_count": null,
      "metadata": {
        "colab": {
          "base_uri": "https://localhost:8080/"
        },
        "id": "5VSXYOFjWDFz",
        "outputId": "cd2957f0-5b2a-4e2e-8bf9-912443371a0d"
      },
      "outputs": [
        {
          "output_type": "stream",
          "name": "stdout",
          "text": [
            "Epoch: 0, Loss:  0.6408256888389587\n",
            "\n",
            "Train loss: 0.640826  [    0/27852]\n",
            "Train loss: 0.651677  [  100/27852]\n",
            "Train loss: 0.683557  [  200/27852]\n",
            "Train loss: 0.668501  [  300/27852]\n",
            "Train loss: 0.654695  [  400/27852]\n",
            "Train loss: 0.638335  [  500/27852]\n",
            "Train loss: 0.640813  [  600/27852]\n",
            "Train loss: 0.615390  [  700/27852]\n",
            "Train loss: 0.680052  [  800/27852]\n",
            "Train loss: 0.697376  [  900/27852]\n",
            "Train loss: 0.603521  [ 1000/27852]\n",
            "Train loss: 0.659567  [ 1100/27852]\n",
            "Train loss: 3.630202  [ 1200/27852]\n",
            "Train loss: 0.633150  [ 1300/27852]\n",
            "Train loss: 0.675912  [ 1400/27852]\n",
            "Train loss: 0.621787  [ 1500/27852]\n",
            "Train loss: 0.659209  [ 1600/27852]\n",
            "Train loss: 3.940658  [ 1700/27852]\n",
            "Train loss: 0.689489  [ 1800/27852]\n",
            "Train loss: 0.678742  [ 1900/27852]\n",
            "Train loss: 0.652710  [ 2000/27852]\n",
            "Train loss: 0.702530  [ 2100/27852]\n",
            "Train loss: 0.637233  [ 2200/27852]\n",
            "Train loss: 0.657809  [ 2300/27852]\n",
            "Train loss: 0.706991  [ 2400/27852]\n",
            "Train loss: 3.559860  [ 2500/27852]\n",
            "Train loss: 0.729218  [ 2600/27852]\n",
            "Train loss: 0.630570  [ 2700/27852]\n",
            "Train loss: 3.567673  [ 2800/27852]\n",
            "Train loss: 0.700782  [ 2900/27852]\n",
            "Train loss: 0.611678  [ 3000/27852]\n",
            "Train loss: 0.679483  [ 3100/27852]\n",
            "Train loss: 0.695122  [ 3200/27852]\n",
            "Train loss: 0.672416  [ 3300/27852]\n",
            "Train loss: 0.646620  [ 3400/27852]\n",
            "Train loss: 0.681357  [ 3500/27852]\n",
            "Train loss: 3.740975  [ 3600/27852]\n",
            "Train loss: 0.667218  [ 3700/27852]\n",
            "Train loss: 0.686149  [ 3800/27852]\n",
            "Train loss: 0.626354  [ 3900/27852]\n",
            "Train loss: 0.557813  [ 4000/27852]\n",
            "Train loss: 0.605053  [ 4100/27852]\n",
            "Train loss: 0.555240  [ 4200/27852]\n",
            "Train loss: 0.638891  [ 4300/27852]\n",
            "Train loss: 0.678778  [ 4400/27852]\n",
            "Train loss: 0.672358  [ 4500/27852]\n",
            "Train loss: 0.655847  [ 4600/27852]\n",
            "Train loss: 3.982671  [ 4700/27852]\n",
            "Train loss: 0.633017  [ 4800/27852]\n",
            "Train loss: 3.191257  [ 4900/27852]\n",
            "Epoch: 0, Loss:  0.7659293413162231\n",
            "\n",
            "Train loss: 0.765929  [ 5000/27852]\n",
            "Train loss: 0.739354  [ 5100/27852]\n",
            "Train loss: 0.705874  [ 5200/27852]\n",
            "Train loss: 3.790752  [ 5300/27852]\n",
            "Train loss: 0.673451  [ 5400/27852]\n",
            "Train loss: 3.703822  [ 5500/27852]\n",
            "Train loss: 0.628614  [ 5600/27852]\n",
            "Train loss: 0.714870  [ 5700/27852]\n",
            "Train loss: 0.689859  [ 5800/27852]\n",
            "Train loss: 0.696263  [ 5900/27852]\n",
            "Train loss: 3.652838  [ 6000/27852]\n",
            "Train loss: 0.719737  [ 6100/27852]\n",
            "Train loss: 3.067781  [ 6200/27852]\n",
            "Train loss: 0.684049  [ 6300/27852]\n",
            "Train loss: 0.690721  [ 6400/27852]\n",
            "Train loss: 0.692486  [ 6500/27852]\n",
            "Train loss: 0.588061  [ 6600/27852]\n",
            "Train loss: 0.696506  [ 6700/27852]\n",
            "Train loss: 0.736159  [ 6800/27852]\n",
            "Train loss: 0.682879  [ 6900/27852]\n",
            "Train loss: 0.732426  [ 7000/27852]\n",
            "Train loss: 0.722850  [ 7100/27852]\n",
            "Train loss: 3.922384  [ 7200/27852]\n",
            "Train loss: 0.591824  [ 7300/27852]\n",
            "Train loss: 0.583476  [ 7400/27852]\n",
            "Train loss: 0.647326  [ 7500/27852]\n",
            "Train loss: 0.592601  [ 7600/27852]\n",
            "Train loss: 0.621599  [ 7700/27852]\n",
            "Train loss: 0.656516  [ 7800/27852]\n",
            "Train loss: 3.976727  [ 7900/27852]\n",
            "Train loss: 0.684870  [ 8000/27852]\n",
            "Train loss: 0.620325  [ 8100/27852]\n",
            "Train loss: 0.657535  [ 8200/27852]\n",
            "Train loss: 0.658743  [ 8300/27852]\n",
            "Train loss: 0.674754  [ 8400/27852]\n",
            "Train loss: 3.865844  [ 8500/27852]\n",
            "Train loss: 3.492435  [ 8600/27852]\n",
            "Train loss: 0.693764  [ 8700/27852]\n",
            "Train loss: 3.629796  [ 8800/27852]\n",
            "Train loss: 0.733410  [ 8900/27852]\n",
            "Train loss: 0.684316  [ 9000/27852]\n",
            "Train loss: 0.690868  [ 9100/27852]\n",
            "Train loss: 0.738183  [ 9200/27852]\n",
            "Train loss: 0.773779  [ 9300/27852]\n",
            "Train loss: 0.737856  [ 9400/27852]\n",
            "Train loss: 0.782025  [ 9500/27852]\n",
            "Train loss: 0.774351  [ 9600/27852]\n",
            "Train loss: 0.698344  [ 9700/27852]\n",
            "Train loss: 3.102225  [ 9800/27852]\n",
            "Train loss: 0.739151  [ 9900/27852]\n",
            "Epoch: 0, Loss:  0.6905674934387207\n",
            "\n",
            "Train loss: 0.690567  [10000/27852]\n",
            "Train loss: 0.683735  [10100/27852]\n",
            "Train loss: 0.867602  [10200/27852]\n",
            "Train loss: 0.844739  [10300/27852]\n",
            "Train loss: 0.750664  [10400/27852]\n",
            "Train loss: 0.685766  [10500/27852]\n",
            "Train loss: 0.646497  [10600/27852]\n",
            "Train loss: 0.712935  [10700/27852]\n",
            "Train loss: 0.756043  [10800/27852]\n",
            "Train loss: 0.756832  [10900/27852]\n",
            "Train loss: 0.787126  [11000/27852]\n",
            "Train loss: 0.741998  [11100/27852]\n",
            "Train loss: 0.819779  [11200/27852]\n",
            "Train loss: 0.781669  [11300/27852]\n",
            "Train loss: 0.770075  [11400/27852]\n",
            "Train loss: 0.666025  [11500/27852]\n",
            "Train loss: 0.661324  [11600/27852]\n",
            "Train loss: 0.686808  [11700/27852]\n",
            "Train loss: 0.573005  [11800/27852]\n",
            "Train loss: 0.580820  [11900/27852]\n",
            "Train loss: 0.607886  [12000/27852]\n",
            "Train loss: 0.694689  [12100/27852]\n",
            "Train loss: 0.710307  [12200/27852]\n",
            "Train loss: 0.760262  [12300/27852]\n",
            "Train loss: 0.654275  [12400/27852]\n",
            "Train loss: 0.647904  [12500/27852]\n",
            "Train loss: 0.612967  [12600/27852]\n",
            "Train loss: 0.766581  [12700/27852]\n",
            "Train loss: 0.639398  [12800/27852]\n",
            "Train loss: 0.713434  [12900/27852]\n",
            "Train loss: 0.724158  [13000/27852]\n",
            "Train loss: 0.705940  [13100/27852]\n",
            "Train loss: 0.778737  [13200/27852]\n",
            "Train loss: 0.675138  [13300/27852]\n",
            "Train loss: 0.669547  [13400/27852]\n",
            "Train loss: 0.743061  [13500/27852]\n",
            "Train loss: 0.747519  [13600/27852]\n",
            "Train loss: 0.705846  [13700/27852]\n",
            "Train loss: 0.639267  [13800/27852]\n",
            "Train loss: 0.756578  [13900/27852]\n",
            "Train loss: 0.609855  [14000/27852]\n",
            "Train loss: 0.694221  [14100/27852]\n",
            "Train loss: 0.666596  [14200/27852]\n",
            "Train loss: 0.674853  [14300/27852]\n",
            "Train loss: 0.650033  [14400/27852]\n",
            "Train loss: 0.615503  [14500/27852]\n",
            "Train loss: 0.722681  [14600/27852]\n",
            "Train loss: 0.695730  [14700/27852]\n",
            "Train loss: 0.653847  [14800/27852]\n",
            "Train loss: 0.591294  [14900/27852]\n",
            "Epoch: 0, Loss:  0.6208655834197998\n",
            "\n",
            "Train loss: 0.620866  [15000/27852]\n",
            "Train loss: 4.769308  [15100/27852]\n",
            "Train loss: 0.631368  [15200/27852]\n",
            "Train loss: 0.707914  [15300/27852]\n",
            "Train loss: 0.855617  [15400/27852]\n",
            "Train loss: 0.735516  [15500/27852]\n",
            "Train loss: 0.605496  [15600/27852]\n",
            "Train loss: 0.654467  [15700/27852]\n",
            "Train loss: 0.675910  [15800/27852]\n",
            "Train loss: 0.703637  [15900/27852]\n",
            "Train loss: 0.740142  [16000/27852]\n",
            "Train loss: 0.800624  [16100/27852]\n",
            "Train loss: 0.790191  [16200/27852]\n",
            "Train loss: 4.016852  [16300/27852]\n",
            "Train loss: 3.869074  [16400/27852]\n",
            "Train loss: 0.861917  [16500/27852]\n",
            "Train loss: 0.739418  [16600/27852]\n",
            "Train loss: 0.595005  [16700/27852]\n",
            "Train loss: 0.622962  [16800/27852]\n",
            "Train loss: 0.534227  [16900/27852]\n",
            "Train loss: 0.581360  [17000/27852]\n",
            "Train loss: 0.763594  [17100/27852]\n",
            "Train loss: 0.716739  [17200/27852]\n",
            "Train loss: 0.624280  [17300/27852]\n",
            "Train loss: 0.629446  [17400/27852]\n",
            "Train loss: 0.752326  [17500/27852]\n",
            "Train loss: 3.780241  [17600/27852]\n",
            "Train loss: 0.746027  [17700/27852]\n",
            "Train loss: 0.817132  [17800/27852]\n",
            "Train loss: 0.829994  [17900/27852]\n",
            "Train loss: 0.751601  [18000/27852]\n",
            "Train loss: 0.797943  [18100/27852]\n",
            "Train loss: 0.664096  [18200/27852]\n",
            "Train loss: 0.660708  [18300/27852]\n",
            "Train loss: 0.895097  [18400/27852]\n",
            "Train loss: 0.649723  [18500/27852]\n",
            "Train loss: 0.704618  [18600/27852]\n",
            "Train loss: 0.791248  [18700/27852]\n",
            "Train loss: 0.762178  [18800/27852]\n",
            "Train loss: 0.618649  [18900/27852]\n",
            "Train loss: 0.860135  [19000/27852]\n",
            "Train loss: 0.783089  [19100/27852]\n",
            "Train loss: 0.657890  [19200/27852]\n",
            "Train loss: 0.662254  [19300/27852]\n",
            "Train loss: 0.746054  [19400/27852]\n",
            "Train loss: 0.623406  [19500/27852]\n",
            "Train loss: 0.600515  [19600/27852]\n",
            "Train loss: 0.737594  [19700/27852]\n",
            "Train loss: 0.597892  [19800/27852]\n",
            "Train loss: 3.899828  [19900/27852]\n",
            "Epoch: 0, Loss:  0.6088441610336304\n",
            "\n",
            "Train loss: 0.608844  [20000/27852]\n",
            "Train loss: 0.788726  [20100/27852]\n",
            "Train loss: 0.575823  [20200/27852]\n",
            "Train loss: 0.524939  [20300/27852]\n",
            "Train loss: 0.619089  [20400/27852]\n",
            "Train loss: 0.635544  [20500/27852]\n",
            "Train loss: 3.762932  [20600/27852]\n",
            "Train loss: 0.697217  [20700/27852]\n",
            "Train loss: 3.776903  [20800/27852]\n",
            "Train loss: 0.746465  [20900/27852]\n",
            "Train loss: 2.638147  [21000/27852]\n",
            "Train loss: 0.773019  [21100/27852]\n",
            "Train loss: 0.637242  [21200/27852]\n",
            "Train loss: 0.574648  [21300/27852]\n",
            "Train loss: 0.728238  [21400/27852]\n",
            "Train loss: 0.603079  [21500/27852]\n",
            "Train loss: 0.836165  [21600/27852]\n",
            "Train loss: 3.150023  [21700/27852]\n",
            "Train loss: 0.709133  [21800/27852]\n",
            "Train loss: 0.745255  [21900/27852]\n",
            "Train loss: 0.680096  [22000/27852]\n",
            "Train loss: 0.631172  [22100/27852]\n",
            "Train loss: 0.667881  [22200/27852]\n",
            "Train loss: 0.713504  [22300/27852]\n",
            "Train loss: 0.721669  [22400/27852]\n",
            "Train loss: 0.670739  [22500/27852]\n",
            "Train loss: 0.657759  [22600/27852]\n",
            "Train loss: 0.678750  [22700/27852]\n",
            "Train loss: 0.972637  [22800/27852]\n",
            "Train loss: 0.822584  [22900/27852]\n",
            "Train loss: 0.659400  [23000/27852]\n",
            "Train loss: 0.587334  [23100/27852]\n",
            "Train loss: 0.635815  [23200/27852]\n",
            "Train loss: 0.803762  [23300/27852]\n",
            "Train loss: 3.455987  [23400/27852]\n",
            "Train loss: 0.772659  [23500/27852]\n",
            "Train loss: 0.774380  [23600/27852]\n",
            "Train loss: 0.622380  [23700/27852]\n",
            "Train loss: 0.671710  [23800/27852]\n",
            "Train loss: 0.736993  [23900/27852]\n",
            "Train loss: 0.665089  [24000/27852]\n",
            "Train loss: 0.656780  [24100/27852]\n",
            "Train loss: 3.295171  [24200/27852]\n",
            "Train loss: 0.740537  [24300/27852]\n",
            "Train loss: 0.543227  [24400/27852]\n",
            "Train loss: 0.540600  [24500/27852]\n",
            "Train loss: 0.786554  [24600/27852]\n",
            "Train loss: 0.551232  [24700/27852]\n",
            "Train loss: 0.811813  [24800/27852]\n",
            "Train loss: 0.637084  [24900/27852]\n",
            "Epoch: 0, Loss:  0.6740691661834717\n",
            "\n",
            "Train loss: 0.674069  [25000/27852]\n",
            "Train loss: 0.574468  [25100/27852]\n",
            "Train loss: 4.059660  [25200/27852]\n",
            "Train loss: 0.708698  [25300/27852]\n",
            "Train loss: 0.654461  [25400/27852]\n",
            "Train loss: 0.567873  [25500/27852]\n",
            "Train loss: 0.552973  [25600/27852]\n",
            "Train loss: 0.531611  [25700/27852]\n",
            "Train loss: 0.624680  [25800/27852]\n",
            "Train loss: 0.614039  [25900/27852]\n",
            "Train loss: 0.519029  [26000/27852]\n",
            "Train loss: 0.565133  [26100/27852]\n",
            "Train loss: 0.579298  [26200/27852]\n",
            "Train loss: 3.843582  [26300/27852]\n",
            "Train loss: 0.506913  [26400/27852]\n",
            "Train loss: 0.461140  [26500/27852]\n",
            "Train loss: 3.875058  [26600/27852]\n",
            "Train loss: 4.474822  [26700/27852]\n",
            "Train loss: 2.219155  [26800/27852]\n",
            "Train loss: 0.968608  [26900/27852]\n",
            "Train loss: 0.629614  [27000/27852]\n",
            "Train loss: 0.592246  [27100/27852]\n",
            "Train loss: 0.773963  [27200/27852]\n",
            "Train loss: 0.548765  [27300/27852]\n",
            "Train loss: 4.175277  [27400/27852]\n",
            "Train loss: 0.661982  [27500/27852]\n",
            "Train loss: 3.050735  [27600/27852]\n",
            "Train loss: 0.721277  [27700/27852]\n",
            "Train loss: 4.752522  [27800/27852]\n",
            "1.1189088490648278\n",
            "\n",
            "Validation loss: 1.118909.\n",
            "Saving model ...\n",
            "Saved PyTorch Model State to model.pth\n",
            "\n"
          ]
        }
      ],
      "source": [
        "# Initialize variables for tracking validation loss and results\n",
        "val_loss_min = np.Inf\n",
        "freezed_trig_val_loss = []\n",
        "\n",
        "# Training loop for trigger classification\n",
        "for epoch in range(TRI_EPOCHS):\n",
        "  train(tri_model_frozen,\n",
        "        tri_training_loader,\n",
        "        optimizer,\n",
        "        #scheduler,\n",
        "        LEARNING_RATE,\n",
        "        TRI_EPOCHS,\n",
        "        epoch,\n",
        "        criterion)\n",
        "  val_loss_min = validation(epoch,\n",
        "                            val_loss_min,\n",
        "                            tri_model_frozen,\n",
        "                            tri_validation_loader,\n",
        "                            criterion,\n",
        "                            frozen=True\n",
        "                            )\n",
        "  freezed_trig_val_loss.append(val_loss_min)"
      ]
    },
    {
      "cell_type": "code",
      "execution_count": null,
      "metadata": {
        "id": "070i-IW4WEin"
      },
      "outputs": [],
      "source": [
        "# Determine the threshold for trigger classification\n",
        "threshold =  get_threshold(tri_model_frozen, tri_validation_loader)"
      ]
    },
    {
      "cell_type": "code",
      "execution_count": null,
      "metadata": {
        "id": "zZEDR-xiWHgq"
      },
      "outputs": [],
      "source": [
        "# Test the trigger classification model and generate results\n",
        "trigger_outputs, trigger_targets = test(tri_model_frozen, tri_testing_loader, threshold)"
      ]
    },
    {
      "cell_type": "code",
      "execution_count": null,
      "metadata": {
        "colab": {
          "base_uri": "https://localhost:8080/"
        },
        "id": "4w6nbdZkWIrx",
        "outputId": "1e8b1a1a-7b6f-46b2-c9d1-1dd5fb235c1e"
      },
      "outputs": [
        {
          "output_type": "stream",
          "name": "stdout",
          "text": [
            "              precision    recall  f1-score   support\n",
            "\n",
            "         0.0       0.88      0.84      0.86      3079\n",
            "         1.0       0.25      0.32      0.28       528\n",
            "\n",
            "    accuracy                           0.76      3607\n",
            "   macro avg       0.56      0.58      0.57      3607\n",
            "weighted avg       0.79      0.76      0.77      3607\n",
            "\n"
          ]
        }
      ],
      "source": [
        "# Print classification report for trigger classification\n",
        "print(classification_report(trigger_targets, trigger_outputs,\n",
        "                            #target_names = labels,\n",
        "                            zero_division=1))"
      ]
    },
    {
      "cell_type": "markdown",
      "metadata": {
        "id": "yLG6ICUNWPEq"
      },
      "source": [
        "### Full Model"
      ]
    },
    {
      "cell_type": "code",
      "execution_count": null,
      "metadata": {
        "colab": {
          "base_uri": "https://localhost:8080/"
        },
        "id": "-FWMAUBqWQrv",
        "outputId": "5c7e89a5-3171-4ebc-aca8-436c7ae9d79c"
      },
      "outputs": [
        {
          "output_type": "execute_result",
          "data": {
            "text/plain": [
              "BERTClass(\n",
              "  (transformer): BertModel(\n",
              "    (embeddings): BertEmbeddings(\n",
              "      (word_embeddings): Embedding(30522, 128, padding_idx=0)\n",
              "      (position_embeddings): Embedding(512, 128)\n",
              "      (token_type_embeddings): Embedding(2, 128)\n",
              "      (LayerNorm): LayerNorm((128,), eps=1e-12, elementwise_affine=True)\n",
              "      (dropout): Dropout(p=0.1, inplace=False)\n",
              "    )\n",
              "    (encoder): BertEncoder(\n",
              "      (layer): ModuleList(\n",
              "        (0-1): 2 x BertLayer(\n",
              "          (attention): BertAttention(\n",
              "            (self): BertSelfAttention(\n",
              "              (query): Linear(in_features=128, out_features=128, bias=True)\n",
              "              (key): Linear(in_features=128, out_features=128, bias=True)\n",
              "              (value): Linear(in_features=128, out_features=128, bias=True)\n",
              "              (dropout): Dropout(p=0.1, inplace=False)\n",
              "            )\n",
              "            (output): BertSelfOutput(\n",
              "              (dense): Linear(in_features=128, out_features=128, bias=True)\n",
              "              (LayerNorm): LayerNorm((128,), eps=1e-12, elementwise_affine=True)\n",
              "              (dropout): Dropout(p=0.1, inplace=False)\n",
              "            )\n",
              "          )\n",
              "          (intermediate): BertIntermediate(\n",
              "            (dense): Linear(in_features=128, out_features=512, bias=True)\n",
              "            (intermediate_act_fn): GELUActivation()\n",
              "          )\n",
              "          (output): BertOutput(\n",
              "            (dense): Linear(in_features=512, out_features=128, bias=True)\n",
              "            (LayerNorm): LayerNorm((128,), eps=1e-12, elementwise_affine=True)\n",
              "            (dropout): Dropout(p=0.1, inplace=False)\n",
              "          )\n",
              "        )\n",
              "      )\n",
              "    )\n",
              "    (pooler): BertPooler(\n",
              "      (dense): Linear(in_features=128, out_features=128, bias=True)\n",
              "      (activation): Tanh()\n",
              "    )\n",
              "  )\n",
              "  (dropout): Dropout(p=0.3, inplace=False)\n",
              "  (dense1): Linear(in_features=128, out_features=384, bias=True)\n",
              "  (dense2): Linear(in_features=384, out_features=192, bias=True)\n",
              "  (dense3): Linear(in_features=192, out_features=1, bias=True)\n",
              ")"
            ]
          },
          "metadata": {},
          "execution_count": 70
        }
      ],
      "source": [
        "# Initialize a new emotion model and move it to the device\n",
        "tri_model_full = BERTClass(card_name)\n",
        "tri_model_full.to(device)"
      ]
    },
    {
      "cell_type": "code",
      "execution_count": null,
      "metadata": {
        "id": "HcxMsK9xWR79"
      },
      "outputs": [],
      "source": [
        "# Define training parameters and create optimizer and scheduler for the emotion model\n",
        "total_steps = len(tri_training_loader)*TRI_EPOCHS\n",
        "optimizer = torch.optim.AdamW(params=tri_model_full.parameters(), lr=LEARNING_RATE)\n",
        "#scheduler = get_linear_schedule_with_warmup(optimizer, num_warmup_steps=int(0.1 * total_steps), num_training_steps=total_steps)"
      ]
    },
    {
      "cell_type": "code",
      "execution_count": null,
      "metadata": {
        "colab": {
          "base_uri": "https://localhost:8080/"
        },
        "id": "mdIpV2S4WWeH",
        "outputId": "1aea8d9d-71ab-4298-cfca-18f879965a98"
      },
      "outputs": [
        {
          "output_type": "stream",
          "name": "stderr",
          "text": [
            "100%|██████████| 27852/27852 [04:35<00:00, 101.12it/s]\n"
          ]
        },
        {
          "output_type": "stream",
          "name": "stdout",
          "text": [
            "0.3263944149981533\n",
            "\n",
            "Validation loss: 0.326394.\n",
            "Saving model ...\n",
            "Saved PyTorch Model State to model.pth\n",
            "\n"
          ]
        }
      ],
      "source": [
        "# Initialize variables for tracking validation loss for the trigger model\n",
        "val_loss_min = np.Inf\n",
        "trig_val_loss = []\n",
        "\n",
        "# Training loop for the trigger model\n",
        "for epoch in range(TRI_EPOCHS):\n",
        "  train(tri_model_full,\n",
        "        tri_training_loader,\n",
        "        optimizer,\n",
        "        #scheduler,\n",
        "        LEARNING_RATE,\n",
        "        TRI_EPOCHS,\n",
        "        epoch,\n",
        "        criterion)\n",
        "  val_loss_min = validation(epoch,\n",
        "                            val_loss_min,\n",
        "                            tri_model_full,\n",
        "                            tri_validation_loader,\n",
        "                            criterion,\n",
        "                            #tokenizer\n",
        "                            )\n",
        "  trig_val_loss.append(val_loss_min)"
      ]
    },
    {
      "cell_type": "code",
      "execution_count": null,
      "metadata": {
        "id": "6LkoK6t9WXoY"
      },
      "outputs": [],
      "source": [
        "# Determine the threshold for trigger classification\n",
        "threshold =  get_threshold(tri_model_full, tri_validation_loader)"
      ]
    },
    {
      "cell_type": "code",
      "source": [
        "# tri_model_full.load_state_dict(torch.load('emo_model_Full_10.pth'))\n",
        "# tri_model_full = emo_model_full.to(device)"
      ],
      "metadata": {
        "id": "V00PYpiZemDR"
      },
      "execution_count": null,
      "outputs": []
    },
    {
      "cell_type": "code",
      "execution_count": null,
      "metadata": {
        "id": "Z185X9uOWYTN"
      },
      "outputs": [],
      "source": [
        "# Test the trigger classification model and generate results\n",
        "trigger_outputs, trigger_targets = test(tri_model_full, tri_testing_loader, threshold)"
      ]
    },
    {
      "cell_type": "code",
      "execution_count": null,
      "metadata": {
        "colab": {
          "base_uri": "https://localhost:8080/"
        },
        "id": "ekBJU4b2WaGh",
        "outputId": "fa518926-39ae-41f2-c125-1b7dd2bda420"
      },
      "outputs": [
        {
          "output_type": "stream",
          "name": "stdout",
          "text": [
            "              precision    recall  f1-score   support\n",
            "\n",
            "         0.0       0.95      0.84      0.89      3079\n",
            "         1.0       0.43      0.73      0.54       528\n",
            "\n",
            "    accuracy                           0.82      3607\n",
            "   macro avg       0.69      0.78      0.71      3607\n",
            "weighted avg       0.87      0.82      0.84      3607\n",
            "\n"
          ]
        }
      ],
      "source": [
        "# Print classification report for trigger classification\n",
        "print(classification_report(trigger_targets, trigger_outputs,\n",
        "                            #target_names = labels,\n",
        "                            zero_division=1))"
      ]
    },
    {
      "cell_type": "code",
      "execution_count": null,
      "metadata": {
        "colab": {
          "base_uri": "https://localhost:8080/"
        },
        "id": "PF3AyQ4RyzXi",
        "outputId": "b52cb7b1-17f6-4594-99a4-16b9c33c898c"
      },
      "outputs": [
        {
          "output_type": "stream",
          "name": "stdout",
          "text": [
            "Accuracy Score = 0.8200720820626559\n",
            "F1 Score (Micro) = 0.820072082062656\n",
            "F1 Score (Macro) = 0.7147134543119107\n",
            "F1 Score (Binary) = 0.5413427561837455\n",
            "F1 Score (Binary) = [0.88808415 0.54134276]\n"
          ]
        }
      ],
      "source": [
        "accuracy = metrics.accuracy_score(trigger_targets, trigger_outputs)\n",
        "f1_score_micro = metrics.f1_score(trigger_targets, trigger_outputs, average='micro')\n",
        "f1_score_macro = metrics.f1_score(trigger_targets, trigger_outputs, average='macro')\n",
        "f1_score_binary = metrics.f1_score(trigger_targets, trigger_outputs)\n",
        "f1_score_ = metrics.f1_score(trigger_targets, trigger_outputs, average = None)\n",
        "print(f\"Accuracy Score = {accuracy}\")\n",
        "print(f\"F1 Score (Micro) = {f1_score_micro}\")\n",
        "print(f\"F1 Score (Macro) = {f1_score_macro}\")\n",
        "print(f\"F1 Score (Binary) = {f1_score_binary}\")\n",
        "print(f\"F1 Score (Binary) = {f1_score_}\")"
      ]
    },
    {
      "cell_type": "code",
      "source": [
        "def metrics_sequence(model, tri_df_test, threshold):\n",
        "  grouped = tri_df_test.groupby('id')\n",
        "\n",
        "  accu = []\n",
        "  micro_f1 = []\n",
        "  macro_f1 = []\n",
        "  binary_f1 = []\n",
        "  f1 = []\n",
        "  for id, group in grouped:\n",
        "    tri_testing_set = TriggerDataset(group, tokenizer, MAX_LEN_TRI, emotion_item_to_number, emotion_number_to_one_hot)\n",
        "    testing_dataloader = DataLoader(tri_testing_set, **test_params)\n",
        "    trigger_outputs, trigger_targets = test(model, testing_dataloader, threshold)\n",
        "    accu.append(metrics.accuracy_score(trigger_targets, trigger_outputs))\n",
        "    micro_f1.append(metrics.f1_score(trigger_targets, trigger_outputs, average='micro'))\n",
        "    macro_f1.append(metrics.f1_score(trigger_targets, trigger_outputs, average='macro'))\n",
        "    binary_f1.append(metrics.f1_score(trigger_targets, trigger_outputs))\n",
        "    f1.append(metrics.f1_score(trigger_targets, trigger_outputs, average = None))\n",
        "  return sum(accu)/len(accu), sum(micro_f1)/len(micro_f1), sum(macro_f1)/len(macro_f1), sum(binary_f1)/len(binary_f1)"
      ],
      "metadata": {
        "id": "ESm7aCsCjzBW"
      },
      "execution_count": null,
      "outputs": []
    },
    {
      "cell_type": "code",
      "source": [
        "accu, micro_f1, macro_f1, binary_f1 = metrics_sequence(tri_model_full, tri_df_test, threshold)\n",
        "\n",
        "print(f\"Sequence Scores:\")\n",
        "print(f\"accuracy: {accu}\")\n",
        "print(f\"micro f1: {micro_f1}\")\n",
        "print(f\"macro f1: {macro_f1}\")\n",
        "print(f\"binary f1: {binary_f1}\")"
      ],
      "metadata": {
        "colab": {
          "base_uri": "https://localhost:8080/"
        },
        "id": "iKnujtMNmf4Z",
        "outputId": "8a99081f-4611-4e0b-e6a5-a3b45eee9097"
      },
      "execution_count": null,
      "outputs": [
        {
          "output_type": "stream",
          "name": "stdout",
          "text": [
            "Sequence Scores:\n",
            "accuracy: 0.7812749493583475\n",
            "micro f1: 0.7812749493583475\n",
            "macro f1: 0.6779213996792761\n",
            "binary f1: 0.5245901875901872\n"
          ]
        }
      ]
    },
    {
      "cell_type": "code",
      "execution_count": null,
      "metadata": {
        "id": "8BQjiTona4w7"
      },
      "outputs": [],
      "source": [
        "# Calculate sequence F1 scores for the trigger model\n",
        "sequence_f1_triggers = compute_sequence_f1(trigger_targets, trigger_outputs)\n",
        "unrolled_sequence_f1_triggers = compute_unrolled_sequence_f1(trigger_targets, trigger_outputs)\n",
        "\n",
        "# Print sequence F1 scores for the trigger model\n",
        "print(f\"Trigger Model - Sequence F1 Score: {sequence_f1_triggers}\")\n",
        "print(f\"Trigger Model - Unrolled Sequence F1 Score: {unrolled_sequence_f1_triggers}\")\n"
      ]
    },
    {
      "cell_type": "markdown",
      "metadata": {
        "id": "YvL-7u8QWLjo"
      },
      "source": [
        "# Final System"
      ]
    },
    {
      "cell_type": "code",
      "execution_count": null,
      "metadata": {
        "id": "SuOumEGEOP9l"
      },
      "outputs": [],
      "source": [
        "# Define the ultimateSystem function to perform both emotion and trigger detection\n",
        "def ultimateSystem(testing_loader):\n",
        "  #TODO:\n",
        "  #Emotion Detection on testing_loader\n",
        "  #Trigger Detection on the data in the testing_loader and\n",
        "  #we add the emotions from the emotion detector as well\n",
        "  pass"
      ]
    },
    {
      "cell_type": "markdown",
      "metadata": {
        "collapsed": false,
        "id": "BdIoFK6xNi3s"
      },
      "source": [
        "# Error Analysis\n",
        "## Emotions"
      ]
    },
    {
      "cell_type": "code",
      "execution_count": null,
      "metadata": {
        "id": "k1FPNq8VNi3s"
      },
      "outputs": [],
      "source": [
        "emo_pred = emotion_outputs\n",
        "emo_true = emotion_targets"
      ]
    },
    {
      "cell_type": "code",
      "execution_count": null,
      "metadata": {
        "id": "YCOupFBvNi3s"
      },
      "outputs": [],
      "source": [
        "# One Hot to number\n",
        "emo_pred = np.array([one_hot_to_emotion_number(emo) for emo in emo_pred])\n",
        "emo_true = np.array([one_hot_to_emotion_number(emo) for emo in emo_true])"
      ]
    },
    {
      "cell_type": "markdown",
      "metadata": {
        "collapsed": false,
        "id": "NEe6Zg8sNi3s"
      },
      "source": [
        "### Confusion matrix"
      ]
    },
    {
      "cell_type": "code",
      "execution_count": null,
      "metadata": {
        "id": "aImAzVvmNi3s"
      },
      "outputs": [],
      "source": [
        "from sklearn.metrics import ConfusionMatrixDisplay, confusion_matrix\n",
        "def plot_confusion_matrix(y_preds, y_true, labels=None):\n",
        "  cm = confusion_matrix(y_true, y_preds, normalize=\"true\")\n",
        "  fig, ax = plt.subplots(figsize=(6, 6))\n",
        "  disp = ConfusionMatrixDisplay(confusion_matrix=cm, display_labels=labels)\n",
        "  disp.plot(cmap=\"Blues\", values_format=\".2f\", ax=ax, colorbar=False)\n",
        "  plt.title(\"Normalized confusion matrix\")\n",
        "  plt.show()\n",
        "\n",
        "# Plot the confusion matrix for emotion classification\n",
        "plot_confusion_matrix(emo_pred,emo_true, labels=emotion_item_to_number.keys())"
      ]
    },
    {
      "cell_type": "code",
      "execution_count": null,
      "metadata": {
        "id": "GasktBGSNi3s"
      },
      "outputs": [],
      "source": [
        "# Count the unique emotion labels in the true labels\n",
        "np.unique(emo_true, return_counts=True)"
      ]
    },
    {
      "cell_type": "markdown",
      "metadata": {
        "collapsed": false,
        "id": "qJ-lHQrINi3s"
      },
      "source": [
        "### Examples of missclassification"
      ]
    },
    {
      "cell_type": "code",
      "execution_count": null,
      "metadata": {
        "id": "L_fbnpxWNi3s"
      },
      "outputs": [],
      "source": [
        "# Add predicted emotions to the test dataframe\n",
        "df_test_emo['pred'] = np.array([emotion_number_to_item[emo[0]] for emo in emo_pred])\n",
        "df_test_emo.reset_index(level=0)\n",
        "\n",
        "# Print the number of incorrect predictions and display some of them\n",
        "print(df_test_emo[df_test_emo['emotions']!=df_test_emo['pred']].shape)\n",
        "df_test_emo[df_test_emo['emotions']!=df_test_emo['pred']][['utterances','emotions','pred']].head(10)"
      ]
    },
    {
      "cell_type": "markdown",
      "metadata": {
        "collapsed": false,
        "id": "E05XQKvDNi3s"
      },
      "source": [
        "### Models Comparison\n",
        "See Table 11 of https://arxiv.org/pdf/2103.12360.pdf\n",
        "Just have to copy the table format and replace by values found by classification_report() function"
      ]
    },
    {
      "cell_type": "code",
      "execution_count": null,
      "metadata": {
        "id": "BGrrg2ECNi3s"
      },
      "outputs": [],
      "source": []
    },
    {
      "cell_type": "markdown",
      "metadata": {
        "collapsed": false,
        "id": "U8uzaQF6Ni3t"
      },
      "source": [
        "## Triggers\n",
        "### Confusion matrix"
      ]
    },
    {
      "cell_type": "code",
      "execution_count": null,
      "metadata": {
        "id": "FDdrGRFBNi3t"
      },
      "outputs": [],
      "source": [
        "trig_pred = np.array(trigger_outputs)\n",
        "trig_true = np.array(trigger_targets)"
      ]
    },
    {
      "cell_type": "code",
      "execution_count": null,
      "metadata": {
        "id": "gfZ03MalNi3t"
      },
      "outputs": [],
      "source": [
        "# Plot the confusion matrix for trigger classification\n",
        "plot_confusion_matrix(trig_pred,trig_true)"
      ]
    },
    {
      "cell_type": "markdown",
      "metadata": {
        "collapsed": false,
        "id": "kDftZ42yNi3t"
      },
      "source": [
        "### Accuracy w.r.t triggers distance from target\n",
        "\n",
        "Here we will visualize how accurate the model is w.r.t the triggers distance"
      ]
    },
    {
      "cell_type": "code",
      "execution_count": null,
      "metadata": {
        "id": "5lv8oAP6Ni3t"
      },
      "outputs": [],
      "source": [
        "# Here is the distance from the triggers to the target for each triggers in the test set\n",
        "trig_dist = []\n",
        "\n",
        "for dialog in range(df_test.shape[0]):\n",
        "    all_trig = df_test.iloc[dialog][\"triggers\"]\n",
        "    active_trig = np.where(all_trig)[0]\n",
        "    for trig in active_trig:\n",
        "        dist = (len(all_trig)-1) - trig\n",
        "        trig_dist.append(dist)"
      ]
    },
    {
      "cell_type": "code",
      "execution_count": null,
      "metadata": {
        "id": "8p93RiUQNi3t"
      },
      "outputs": [],
      "source": [
        "# Filter out non-active triggers and keep only the active ones\n",
        "active_trig_index = np.where(trig_true)[0]\n",
        "trig_pred = [trig_pred[i] for i in active_trig_index]\n",
        "trig_true = [trig_true[i] for i in active_trig_index]\n",
        "\n",
        "# Create a DataFrame to store accuracy and distance information\n",
        "accuracy_dist = pd.DataFrame({\n",
        "    \"acc\" : [int(trig_pred[i] == trig_true[i]) for i in range(len(trig_pred))],\n",
        "    \"dist\" : trig_dist\n",
        "})"
      ]
    },
    {
      "cell_type": "code",
      "execution_count": null,
      "metadata": {
        "id": "3vUpsLupNi3t"
      },
      "outputs": [],
      "source": [
        "# Separate correctly predicted and wrongly predicted instances\n",
        "good_pred = accuracy_dist[accuracy_dist[\"acc\"]==1]\n",
        "wrong_pred = accuracy_dist[accuracy_dist[\"acc\"]==0]\n",
        "\n",
        "# Calculate distributions of distances for both correct and wrong predictions\n",
        "good_pred_dist, good_pred_counts = np.unique(good_pred, return_counts=1)\n",
        "wrong_pred_dist, wrong_pred_counts = np.unique(wrong_pred, return_counts=1)\n"
      ]
    },
    {
      "cell_type": "code",
      "execution_count": null,
      "metadata": {
        "id": "zwPikBaNNi3t"
      },
      "outputs": [],
      "source": [
        "# Initialize an array for wrong prediction counts for each distance\n",
        "wrong_pred_counts2 = np.zeros(15)\n",
        "\n",
        "# Update the counts array based on wrong prediction distances\n",
        "for i, dist in enumerate(wrong_pred_dist):\n",
        "    wrong_pred_counts2[dist] = wrong_pred_counts[i]"
      ]
    },
    {
      "cell_type": "code",
      "execution_count": null,
      "metadata": {
        "id": "Z2BKzjFNNi3t",
        "outputId": "510df090-49a5-4801-d374-34698fbea34f"
      },
      "outputs": [
        {
          "data": {
            "image/png": "[encoded data removed]",
            "text/plain": "<Figure size 640x480 with 1 Axes>"
          },
          "metadata": {},
          "output_type": "display_data"
        }
      ],
      "source": [
        "# importing package\n",
        "import matplotlib.pyplot as plt\n",
        "\n",
        "# create data\n",
        "dist = good_pred_dist\n",
        "\n",
        "# plot bars in stack manner\n",
        "plt.bar(dist, good_pred_counts, color='r')\n",
        "plt.bar(dist, wrong_pred_counts2, bottom=good_pred_counts, color='b')\n",
        "plt.xlabel(\"Distance\")\n",
        "plt.ylabel(\"Frequency\")\n",
        "plt.legend([\"Well Classified (TP)\", \"Miss classified (FN)\"])\n",
        "plt.title(\"Accuracy w.r.t distance from target\")\n",
        "plt.show()"
      ]
    },
    {
      "cell_type": "markdown",
      "metadata": {
        "collapsed": false,
        "id": "AnTuTB25Ni3t"
      },
      "source": [
        "We can see that the model accuracy is different among the different distance from the target. Indeed, we can observe that the model is good to predict the triggers at a distance of 1 from the target value. However, it's less good to detect when the last utterance, i.e. distance of 0, is the triggers for the emotion flip."
      ]
    }
  ],
  "metadata": {
    "accelerator": "GPU",
    "colab": {
      "gpuType": "T4",
      "provenance": []
    },
    "kernelspec": {
      "display_name": "Python 3",
      "name": "python3"
    },
    "language_info": {
      "name": "python"
    },
    "widgets": {
      "application/vnd.jupyter.widget-state+json": {
        "dd3ff511ab424eeba625af28f35ae239": {
          "model_module": "@jupyter-widgets/controls",
          "model_name": "HBoxModel",
          "model_module_version": "1.5.0",
          "state": {
            "_dom_classes": [],
            "_model_module": "@jupyter-widgets/controls",
            "_model_module_version": "1.5.0",
            "_model_name": "HBoxModel",
            "_view_count": null,
            "_view_module": "@jupyter-widgets/controls",
            "_view_module_version": "1.5.0",
            "_view_name": "HBoxView",
            "box_style": "",
            "children": [
              "IPY_MODEL_058044b3e91d45b3886c5ccf3a7fe71e",
              "IPY_MODEL_41fd9bdf8caf4f64b4d924d1c53e6287",
              "IPY_MODEL_7f1f8bd6a12d4abea4ac205a5bd1effb"
            ],
            "layout": "IPY_MODEL_5d6b9a35e8f440f689594c33419c0b43"
          }
        },
        "058044b3e91d45b3886c5ccf3a7fe71e": {
          "model_module": "@jupyter-widgets/controls",
          "model_name": "HTMLModel",
          "model_module_version": "1.5.0",
          "state": {
            "_dom_classes": [],
            "_model_module": "@jupyter-widgets/controls",
            "_model_module_version": "1.5.0",
            "_model_name": "HTMLModel",
            "_view_count": null,
            "_view_module": "@jupyter-widgets/controls",
            "_view_module_version": "1.5.0",
            "_view_name": "HTMLView",
            "description": "",
            "description_tooltip": null,
            "layout": "IPY_MODEL_75b6daaec8d2400d9c8feddc3cce2fd1",
            "placeholder": "​",
            "style": "IPY_MODEL_ebdc477ba1ff4e9c84920f5f68930258",
            "value": "config.json: 100%"
          }
        },
        "41fd9bdf8caf4f64b4d924d1c53e6287": {
          "model_module": "@jupyter-widgets/controls",
          "model_name": "FloatProgressModel",
          "model_module_version": "1.5.0",
          "state": {
            "_dom_classes": [],
            "_model_module": "@jupyter-widgets/controls",
            "_model_module_version": "1.5.0",
            "_model_name": "FloatProgressModel",
            "_view_count": null,
            "_view_module": "@jupyter-widgets/controls",
            "_view_module_version": "1.5.0",
            "_view_name": "ProgressView",
            "bar_style": "success",
            "description": "",
            "description_tooltip": null,
            "layout": "IPY_MODEL_602067f86dff4495997fe1b6518b2396",
            "max": 285,
            "min": 0,
            "orientation": "horizontal",
            "style": "IPY_MODEL_136a2590654d4db6bca916ea795fe370",
            "value": 285
          }
        },
        "7f1f8bd6a12d4abea4ac205a5bd1effb": {
          "model_module": "@jupyter-widgets/controls",
          "model_name": "HTMLModel",
          "model_module_version": "1.5.0",
          "state": {
            "_dom_classes": [],
            "_model_module": "@jupyter-widgets/controls",
            "_model_module_version": "1.5.0",
            "_model_name": "HTMLModel",
            "_view_count": null,
            "_view_module": "@jupyter-widgets/controls",
            "_view_module_version": "1.5.0",
            "_view_name": "HTMLView",
            "description": "",
            "description_tooltip": null,
            "layout": "IPY_MODEL_ddd2d6bed5954ef2b230e3c93d08e978",
            "placeholder": "​",
            "style": "IPY_MODEL_8490517a28794084ae5d43ac7b24d7a7",
            "value": " 285/285 [00:00&lt;00:00, 9.60kB/s]"
          }
        },
        "5d6b9a35e8f440f689594c33419c0b43": {
          "model_module": "@jupyter-widgets/base",
          "model_name": "LayoutModel",
          "model_module_version": "1.2.0",
          "state": {
            "_model_module": "@jupyter-widgets/base",
            "_model_module_version": "1.2.0",
            "_model_name": "LayoutModel",
            "_view_count": null,
            "_view_module": "@jupyter-widgets/base",
            "_view_module_version": "1.2.0",
            "_view_name": "LayoutView",
            "align_content": null,
            "align_items": null,
            "align_self": null,
            "border": null,
            "bottom": null,
            "display": null,
            "flex": null,
            "flex_flow": null,
            "grid_area": null,
            "grid_auto_columns": null,
            "grid_auto_flow": null,
            "grid_auto_rows": null,
            "grid_column": null,
            "grid_gap": null,
            "grid_row": null,
            "grid_template_areas": null,
            "grid_template_columns": null,
            "grid_template_rows": null,
            "height": null,
            "justify_content": null,
            "justify_items": null,
            "left": null,
            "margin": null,
            "max_height": null,
            "max_width": null,
            "min_height": null,
            "min_width": null,
            "object_fit": null,
            "object_position": null,
            "order": null,
            "overflow": null,
            "overflow_x": null,
            "overflow_y": null,
            "padding": null,
            "right": null,
            "top": null,
            "visibility": null,
            "width": null
          }
        },
        "75b6daaec8d2400d9c8feddc3cce2fd1": {
          "model_module": "@jupyter-widgets/base",
          "model_name": "LayoutModel",
          "model_module_version": "1.2.0",
          "state": {
            "_model_module": "@jupyter-widgets/base",
            "_model_module_version": "1.2.0",
            "_model_name": "LayoutModel",
            "_view_count": null,
            "_view_module": "@jupyter-widgets/base",
            "_view_module_version": "1.2.0",
            "_view_name": "LayoutView",
            "align_content": null,
            "align_items": null,
            "align_self": null,
            "border": null,
            "bottom": null,
            "display": null,
            "flex": null,
            "flex_flow": null,
            "grid_area": null,
            "grid_auto_columns": null,
            "grid_auto_flow": null,
            "grid_auto_rows": null,
            "grid_column": null,
            "grid_gap": null,
            "grid_row": null,
            "grid_template_areas": null,
            "grid_template_columns": null,
            "grid_template_rows": null,
            "height": null,
            "justify_content": null,
            "justify_items": null,
            "left": null,
            "margin": null,
            "max_height": null,
            "max_width": null,
            "min_height": null,
            "min_width": null,
            "object_fit": null,
            "object_position": null,
            "order": null,
            "overflow": null,
            "overflow_x": null,
            "overflow_y": null,
            "padding": null,
            "right": null,
            "top": null,
            "visibility": null,
            "width": null
          }
        },
        "ebdc477ba1ff4e9c84920f5f68930258": {
          "model_module": "@jupyter-widgets/controls",
          "model_name": "DescriptionStyleModel",
          "model_module_version": "1.5.0",
          "state": {
            "_model_module": "@jupyter-widgets/controls",
            "_model_module_version": "1.5.0",
            "_model_name": "DescriptionStyleModel",
            "_view_count": null,
            "_view_module": "@jupyter-widgets/base",
            "_view_module_version": "1.2.0",
            "_view_name": "StyleView",
            "description_width": ""
          }
        },
        "602067f86dff4495997fe1b6518b2396": {
          "model_module": "@jupyter-widgets/base",
          "model_name": "LayoutModel",
          "model_module_version": "1.2.0",
          "state": {
            "_model_module": "@jupyter-widgets/base",
            "_model_module_version": "1.2.0",
            "_model_name": "LayoutModel",
            "_view_count": null,
            "_view_module": "@jupyter-widgets/base",
            "_view_module_version": "1.2.0",
            "_view_name": "LayoutView",
            "align_content": null,
            "align_items": null,
            "align_self": null,
            "border": null,
            "bottom": null,
            "display": null,
            "flex": null,
            "flex_flow": null,
            "grid_area": null,
            "grid_auto_columns": null,
            "grid_auto_flow": null,
            "grid_auto_rows": null,
            "grid_column": null,
            "grid_gap": null,
            "grid_row": null,
            "grid_template_areas": null,
            "grid_template_columns": null,
            "grid_template_rows": null,
            "height": null,
            "justify_content": null,
            "justify_items": null,
            "left": null,
            "margin": null,
            "max_height": null,
            "max_width": null,
            "min_height": null,
            "min_width": null,
            "object_fit": null,
            "object_position": null,
            "order": null,
            "overflow": null,
            "overflow_x": null,
            "overflow_y": null,
            "padding": null,
            "right": null,
            "top": null,
            "visibility": null,
            "width": null
          }
        },
        "136a2590654d4db6bca916ea795fe370": {
          "model_module": "@jupyter-widgets/controls",
          "model_name": "ProgressStyleModel",
          "model_module_version": "1.5.0",
          "state": {
            "_model_module": "@jupyter-widgets/controls",
            "_model_module_version": "1.5.0",
            "_model_name": "ProgressStyleModel",
            "_view_count": null,
            "_view_module": "@jupyter-widgets/base",
            "_view_module_version": "1.2.0",
            "_view_name": "StyleView",
            "bar_color": null,
            "description_width": ""
          }
        },
        "ddd2d6bed5954ef2b230e3c93d08e978": {
          "model_module": "@jupyter-widgets/base",
          "model_name": "LayoutModel",
          "model_module_version": "1.2.0",
          "state": {
            "_model_module": "@jupyter-widgets/base",
            "_model_module_version": "1.2.0",
            "_model_name": "LayoutModel",
            "_view_count": null,
            "_view_module": "@jupyter-widgets/base",
            "_view_module_version": "1.2.0",
            "_view_name": "LayoutView",
            "align_content": null,
            "align_items": null,
            "align_self": null,
            "border": null,
            "bottom": null,
            "display": null,
            "flex": null,
            "flex_flow": null,
            "grid_area": null,
            "grid_auto_columns": null,
            "grid_auto_flow": null,
            "grid_auto_rows": null,
            "grid_column": null,
            "grid_gap": null,
            "grid_row": null,
            "grid_template_areas": null,
            "grid_template_columns": null,
            "grid_template_rows": null,
            "height": null,
            "justify_content": null,
            "justify_items": null,
            "left": null,
            "margin": null,
            "max_height": null,
            "max_width": null,
            "min_height": null,
            "min_width": null,
            "object_fit": null,
            "object_position": null,
            "order": null,
            "overflow": null,
            "overflow_x": null,
            "overflow_y": null,
            "padding": null,
            "right": null,
            "top": null,
            "visibility": null,
            "width": null
          }
        },
        "8490517a28794084ae5d43ac7b24d7a7": {
          "model_module": "@jupyter-widgets/controls",
          "model_name": "DescriptionStyleModel",
          "model_module_version": "1.5.0",
          "state": {
            "_model_module": "@jupyter-widgets/controls",
            "_model_module_version": "1.5.0",
            "_model_name": "DescriptionStyleModel",
            "_view_count": null,
            "_view_module": "@jupyter-widgets/base",
            "_view_module_version": "1.2.0",
            "_view_name": "StyleView",
            "description_width": ""
          }
        },
        "cb9c48f8c69d4dd78bb15adabc62d168": {
          "model_module": "@jupyter-widgets/controls",
          "model_name": "HBoxModel",
          "model_module_version": "1.5.0",
          "state": {
            "_dom_classes": [],
            "_model_module": "@jupyter-widgets/controls",
            "_model_module_version": "1.5.0",
            "_model_name": "HBoxModel",
            "_view_count": null,
            "_view_module": "@jupyter-widgets/controls",
            "_view_module_version": "1.5.0",
            "_view_name": "HBoxView",
            "box_style": "",
            "children": [
              "IPY_MODEL_001fb03765d04831a7933b88b1222885",
              "IPY_MODEL_0afb31e96f0a45e48e850df699b21488",
              "IPY_MODEL_1d5a1fbdd0e6484d840f5a3fd8415c87"
            ],
            "layout": "IPY_MODEL_61f03500b8ef48f49f264cbd0e8b1ccd"
          }
        },
        "001fb03765d04831a7933b88b1222885": {
          "model_module": "@jupyter-widgets/controls",
          "model_name": "HTMLModel",
          "model_module_version": "1.5.0",
          "state": {
            "_dom_classes": [],
            "_model_module": "@jupyter-widgets/controls",
            "_model_module_version": "1.5.0",
            "_model_name": "HTMLModel",
            "_view_count": null,
            "_view_module": "@jupyter-widgets/controls",
            "_view_module_version": "1.5.0",
            "_view_name": "HTMLView",
            "description": "",
            "description_tooltip": null,
            "layout": "IPY_MODEL_314cb6e6cd8245f19bdd06f0d25011b7",
            "placeholder": "​",
            "style": "IPY_MODEL_a5f5c0784efe4359b7602c4f0d4fba3f",
            "value": "vocab.txt: 100%"
          }
        },
        "0afb31e96f0a45e48e850df699b21488": {
          "model_module": "@jupyter-widgets/controls",
          "model_name": "FloatProgressModel",
          "model_module_version": "1.5.0",
          "state": {
            "_dom_classes": [],
            "_model_module": "@jupyter-widgets/controls",
            "_model_module_version": "1.5.0",
            "_model_name": "FloatProgressModel",
            "_view_count": null,
            "_view_module": "@jupyter-widgets/controls",
            "_view_module_version": "1.5.0",
            "_view_name": "ProgressView",
            "bar_style": "success",
            "description": "",
            "description_tooltip": null,
            "layout": "IPY_MODEL_10759098fc394c8483ec4e20fbaa7c7d",
            "max": 231508,
            "min": 0,
            "orientation": "horizontal",
            "style": "IPY_MODEL_c8ed21d87c49450393e330df98dbb51e",
            "value": 231508
          }
        },
        "1d5a1fbdd0e6484d840f5a3fd8415c87": {
          "model_module": "@jupyter-widgets/controls",
          "model_name": "HTMLModel",
          "model_module_version": "1.5.0",
          "state": {
            "_dom_classes": [],
            "_model_module": "@jupyter-widgets/controls",
            "_model_module_version": "1.5.0",
            "_model_name": "HTMLModel",
            "_view_count": null,
            "_view_module": "@jupyter-widgets/controls",
            "_view_module_version": "1.5.0",
            "_view_name": "HTMLView",
            "description": "",
            "description_tooltip": null,
            "layout": "IPY_MODEL_97534fbe4ef748db8fe8ac78b11d1b79",
            "placeholder": "​",
            "style": "IPY_MODEL_cab5458e83c64d23bf21fda2ff10a709",
            "value": " 232k/232k [00:00&lt;00:00, 2.52MB/s]"
          }
        },
        "61f03500b8ef48f49f264cbd0e8b1ccd": {
          "model_module": "@jupyter-widgets/base",
          "model_name": "LayoutModel",
          "model_module_version": "1.2.0",
          "state": {
            "_model_module": "@jupyter-widgets/base",
            "_model_module_version": "1.2.0",
            "_model_name": "LayoutModel",
            "_view_count": null,
            "_view_module": "@jupyter-widgets/base",
            "_view_module_version": "1.2.0",
            "_view_name": "LayoutView",
            "align_content": null,
            "align_items": null,
            "align_self": null,
            "border": null,
            "bottom": null,
            "display": null,
            "flex": null,
            "flex_flow": null,
            "grid_area": null,
            "grid_auto_columns": null,
            "grid_auto_flow": null,
            "grid_auto_rows": null,
            "grid_column": null,
            "grid_gap": null,
            "grid_row": null,
            "grid_template_areas": null,
            "grid_template_columns": null,
            "grid_template_rows": null,
            "height": null,
            "justify_content": null,
            "justify_items": null,
            "left": null,
            "margin": null,
            "max_height": null,
            "max_width": null,
            "min_height": null,
            "min_width": null,
            "object_fit": null,
            "object_position": null,
            "order": null,
            "overflow": null,
            "overflow_x": null,
            "overflow_y": null,
            "padding": null,
            "right": null,
            "top": null,
            "visibility": null,
            "width": null
          }
        },
        "314cb6e6cd8245f19bdd06f0d25011b7": {
          "model_module": "@jupyter-widgets/base",
          "model_name": "LayoutModel",
          "model_module_version": "1.2.0",
          "state": {
            "_model_module": "@jupyter-widgets/base",
            "_model_module_version": "1.2.0",
            "_model_name": "LayoutModel",
            "_view_count": null,
            "_view_module": "@jupyter-widgets/base",
            "_view_module_version": "1.2.0",
            "_view_name": "LayoutView",
            "align_content": null,
            "align_items": null,
            "align_self": null,
            "border": null,
            "bottom": null,
            "display": null,
            "flex": null,
            "flex_flow": null,
            "grid_area": null,
            "grid_auto_columns": null,
            "grid_auto_flow": null,
            "grid_auto_rows": null,
            "grid_column": null,
            "grid_gap": null,
            "grid_row": null,
            "grid_template_areas": null,
            "grid_template_columns": null,
            "grid_template_rows": null,
            "height": null,
            "justify_content": null,
            "justify_items": null,
            "left": null,
            "margin": null,
            "max_height": null,
            "max_width": null,
            "min_height": null,
            "min_width": null,
            "object_fit": null,
            "object_position": null,
            "order": null,
            "overflow": null,
            "overflow_x": null,
            "overflow_y": null,
            "padding": null,
            "right": null,
            "top": null,
            "visibility": null,
            "width": null
          }
        },
        "a5f5c0784efe4359b7602c4f0d4fba3f": {
          "model_module": "@jupyter-widgets/controls",
          "model_name": "DescriptionStyleModel",
          "model_module_version": "1.5.0",
          "state": {
            "_model_module": "@jupyter-widgets/controls",
            "_model_module_version": "1.5.0",
            "_model_name": "DescriptionStyleModel",
            "_view_count": null,
            "_view_module": "@jupyter-widgets/base",
            "_view_module_version": "1.2.0",
            "_view_name": "StyleView",
            "description_width": ""
          }
        },
        "10759098fc394c8483ec4e20fbaa7c7d": {
          "model_module": "@jupyter-widgets/base",
          "model_name": "LayoutModel",
          "model_module_version": "1.2.0",
          "state": {
            "_model_module": "@jupyter-widgets/base",
            "_model_module_version": "1.2.0",
            "_model_name": "LayoutModel",
            "_view_count": null,
            "_view_module": "@jupyter-widgets/base",
            "_view_module_version": "1.2.0",
            "_view_name": "LayoutView",
            "align_content": null,
            "align_items": null,
            "align_self": null,
            "border": null,
            "bottom": null,
            "display": null,
            "flex": null,
            "flex_flow": null,
            "grid_area": null,
            "grid_auto_columns": null,
            "grid_auto_flow": null,
            "grid_auto_rows": null,
            "grid_column": null,
            "grid_gap": null,
            "grid_row": null,
            "grid_template_areas": null,
            "grid_template_columns": null,
            "grid_template_rows": null,
            "height": null,
            "justify_content": null,
            "justify_items": null,
            "left": null,
            "margin": null,
            "max_height": null,
            "max_width": null,
            "min_height": null,
            "min_width": null,
            "object_fit": null,
            "object_position": null,
            "order": null,
            "overflow": null,
            "overflow_x": null,
            "overflow_y": null,
            "padding": null,
            "right": null,
            "top": null,
            "visibility": null,
            "width": null
          }
        },
        "c8ed21d87c49450393e330df98dbb51e": {
          "model_module": "@jupyter-widgets/controls",
          "model_name": "ProgressStyleModel",
          "model_module_version": "1.5.0",
          "state": {
            "_model_module": "@jupyter-widgets/controls",
            "_model_module_version": "1.5.0",
            "_model_name": "ProgressStyleModel",
            "_view_count": null,
            "_view_module": "@jupyter-widgets/base",
            "_view_module_version": "1.2.0",
            "_view_name": "StyleView",
            "bar_color": null,
            "description_width": ""
          }
        },
        "97534fbe4ef748db8fe8ac78b11d1b79": {
          "model_module": "@jupyter-widgets/base",
          "model_name": "LayoutModel",
          "model_module_version": "1.2.0",
          "state": {
            "_model_module": "@jupyter-widgets/base",
            "_model_module_version": "1.2.0",
            "_model_name": "LayoutModel",
            "_view_count": null,
            "_view_module": "@jupyter-widgets/base",
            "_view_module_version": "1.2.0",
            "_view_name": "LayoutView",
            "align_content": null,
            "align_items": null,
            "align_self": null,
            "border": null,
            "bottom": null,
            "display": null,
            "flex": null,
            "flex_flow": null,
            "grid_area": null,
            "grid_auto_columns": null,
            "grid_auto_flow": null,
            "grid_auto_rows": null,
            "grid_column": null,
            "grid_gap": null,
            "grid_row": null,
            "grid_template_areas": null,
            "grid_template_columns": null,
            "grid_template_rows": null,
            "height": null,
            "justify_content": null,
            "justify_items": null,
            "left": null,
            "margin": null,
            "max_height": null,
            "max_width": null,
            "min_height": null,
            "min_width": null,
            "object_fit": null,
            "object_position": null,
            "order": null,
            "overflow": null,
            "overflow_x": null,
            "overflow_y": null,
            "padding": null,
            "right": null,
            "top": null,
            "visibility": null,
            "width": null
          }
        },
        "cab5458e83c64d23bf21fda2ff10a709": {
          "model_module": "@jupyter-widgets/controls",
          "model_name": "DescriptionStyleModel",
          "model_module_version": "1.5.0",
          "state": {
            "_model_module": "@jupyter-widgets/controls",
            "_model_module_version": "1.5.0",
            "_model_name": "DescriptionStyleModel",
            "_view_count": null,
            "_view_module": "@jupyter-widgets/base",
            "_view_module_version": "1.2.0",
            "_view_name": "StyleView",
            "description_width": ""
          }
        },
        "ebf0ad8ccfeb4e3288a275ac49809b58": {
          "model_module": "@jupyter-widgets/controls",
          "model_name": "HBoxModel",
          "model_module_version": "1.5.0",
          "state": {
            "_dom_classes": [],
            "_model_module": "@jupyter-widgets/controls",
            "_model_module_version": "1.5.0",
            "_model_name": "HBoxModel",
            "_view_count": null,
            "_view_module": "@jupyter-widgets/controls",
            "_view_module_version": "1.5.0",
            "_view_name": "HBoxView",
            "box_style": "",
            "children": [
              "IPY_MODEL_217ac133b8e14703a0fda55f5973cfb4",
              "IPY_MODEL_5c1513e03c49474c8f0ea28d30998c77",
              "IPY_MODEL_91a0ac254ffa4ca9a0f061ac082e77a1"
            ],
            "layout": "IPY_MODEL_040b8ebd6fef45c38ea830938b726996"
          }
        },
        "217ac133b8e14703a0fda55f5973cfb4": {
          "model_module": "@jupyter-widgets/controls",
          "model_name": "HTMLModel",
          "model_module_version": "1.5.0",
          "state": {
            "_dom_classes": [],
            "_model_module": "@jupyter-widgets/controls",
            "_model_module_version": "1.5.0",
            "_model_name": "HTMLModel",
            "_view_count": null,
            "_view_module": "@jupyter-widgets/controls",
            "_view_module_version": "1.5.0",
            "_view_name": "HTMLView",
            "description": "",
            "description_tooltip": null,
            "layout": "IPY_MODEL_1eaa3b0ffb1a4206a9f8ec7080005513",
            "placeholder": "​",
            "style": "IPY_MODEL_37bc9ab3aae34dc2a0470765eaf9de73",
            "value": "pytorch_model.bin: 100%"
          }
        },
        "5c1513e03c49474c8f0ea28d30998c77": {
          "model_module": "@jupyter-widgets/controls",
          "model_name": "FloatProgressModel",
          "model_module_version": "1.5.0",
          "state": {
            "_dom_classes": [],
            "_model_module": "@jupyter-widgets/controls",
            "_model_module_version": "1.5.0",
            "_model_name": "FloatProgressModel",
            "_view_count": null,
            "_view_module": "@jupyter-widgets/controls",
            "_view_module_version": "1.5.0",
            "_view_name": "ProgressView",
            "bar_style": "success",
            "description": "",
            "description_tooltip": null,
            "layout": "IPY_MODEL_69e0d1e285744b3c98786cb170c0adda",
            "max": 17756393,
            "min": 0,
            "orientation": "horizontal",
            "style": "IPY_MODEL_b0ef006624da4f59a4d758324cbade94",
            "value": 17756393
          }
        },
        "91a0ac254ffa4ca9a0f061ac082e77a1": {
          "model_module": "@jupyter-widgets/controls",
          "model_name": "HTMLModel",
          "model_module_version": "1.5.0",
          "state": {
            "_dom_classes": [],
            "_model_module": "@jupyter-widgets/controls",
            "_model_module_version": "1.5.0",
            "_model_name": "HTMLModel",
            "_view_count": null,
            "_view_module": "@jupyter-widgets/controls",
            "_view_module_version": "1.5.0",
            "_view_name": "HTMLView",
            "description": "",
            "description_tooltip": null,
            "layout": "IPY_MODEL_d355eea8615e48d796add02941186505",
            "placeholder": "​",
            "style": "IPY_MODEL_070de6816f62446a99592ae97f846fb4",
            "value": " 17.8M/17.8M [00:00&lt;00:00, 101MB/s]"
          }
        },
        "040b8ebd6fef45c38ea830938b726996": {
          "model_module": "@jupyter-widgets/base",
          "model_name": "LayoutModel",
          "model_module_version": "1.2.0",
          "state": {
            "_model_module": "@jupyter-widgets/base",
            "_model_module_version": "1.2.0",
            "_model_name": "LayoutModel",
            "_view_count": null,
            "_view_module": "@jupyter-widgets/base",
            "_view_module_version": "1.2.0",
            "_view_name": "LayoutView",
            "align_content": null,
            "align_items": null,
            "align_self": null,
            "border": null,
            "bottom": null,
            "display": null,
            "flex": null,
            "flex_flow": null,
            "grid_area": null,
            "grid_auto_columns": null,
            "grid_auto_flow": null,
            "grid_auto_rows": null,
            "grid_column": null,
            "grid_gap": null,
            "grid_row": null,
            "grid_template_areas": null,
            "grid_template_columns": null,
            "grid_template_rows": null,
            "height": null,
            "justify_content": null,
            "justify_items": null,
            "left": null,
            "margin": null,
            "max_height": null,
            "max_width": null,
            "min_height": null,
            "min_width": null,
            "object_fit": null,
            "object_position": null,
            "order": null,
            "overflow": null,
            "overflow_x": null,
            "overflow_y": null,
            "padding": null,
            "right": null,
            "top": null,
            "visibility": null,
            "width": null
          }
        },
        "1eaa3b0ffb1a4206a9f8ec7080005513": {
          "model_module": "@jupyter-widgets/base",
          "model_name": "LayoutModel",
          "model_module_version": "1.2.0",
          "state": {
            "_model_module": "@jupyter-widgets/base",
            "_model_module_version": "1.2.0",
            "_model_name": "LayoutModel",
            "_view_count": null,
            "_view_module": "@jupyter-widgets/base",
            "_view_module_version": "1.2.0",
            "_view_name": "LayoutView",
            "align_content": null,
            "align_items": null,
            "align_self": null,
            "border": null,
            "bottom": null,
            "display": null,
            "flex": null,
            "flex_flow": null,
            "grid_area": null,
            "grid_auto_columns": null,
            "grid_auto_flow": null,
            "grid_auto_rows": null,
            "grid_column": null,
            "grid_gap": null,
            "grid_row": null,
            "grid_template_areas": null,
            "grid_template_columns": null,
            "grid_template_rows": null,
            "height": null,
            "justify_content": null,
            "justify_items": null,
            "left": null,
            "margin": null,
            "max_height": null,
            "max_width": null,
            "min_height": null,
            "min_width": null,
            "object_fit": null,
            "object_position": null,
            "order": null,
            "overflow": null,
            "overflow_x": null,
            "overflow_y": null,
            "padding": null,
            "right": null,
            "top": null,
            "visibility": null,
            "width": null
          }
        },
        "37bc9ab3aae34dc2a0470765eaf9de73": {
          "model_module": "@jupyter-widgets/controls",
          "model_name": "DescriptionStyleModel",
          "model_module_version": "1.5.0",
          "state": {
            "_model_module": "@jupyter-widgets/controls",
            "_model_module_version": "1.5.0",
            "_model_name": "DescriptionStyleModel",
            "_view_count": null,
            "_view_module": "@jupyter-widgets/base",
            "_view_module_version": "1.2.0",
            "_view_name": "StyleView",
            "description_width": ""
          }
        },
        "69e0d1e285744b3c98786cb170c0adda": {
          "model_module": "@jupyter-widgets/base",
          "model_name": "LayoutModel",
          "model_module_version": "1.2.0",
          "state": {
            "_model_module": "@jupyter-widgets/base",
            "_model_module_version": "1.2.0",
            "_model_name": "LayoutModel",
            "_view_count": null,
            "_view_module": "@jupyter-widgets/base",
            "_view_module_version": "1.2.0",
            "_view_name": "LayoutView",
            "align_content": null,
            "align_items": null,
            "align_self": null,
            "border": null,
            "bottom": null,
            "display": null,
            "flex": null,
            "flex_flow": null,
            "grid_area": null,
            "grid_auto_columns": null,
            "grid_auto_flow": null,
            "grid_auto_rows": null,
            "grid_column": null,
            "grid_gap": null,
            "grid_row": null,
            "grid_template_areas": null,
            "grid_template_columns": null,
            "grid_template_rows": null,
            "height": null,
            "justify_content": null,
            "justify_items": null,
            "left": null,
            "margin": null,
            "max_height": null,
            "max_width": null,
            "min_height": null,
            "min_width": null,
            "object_fit": null,
            "object_position": null,
            "order": null,
            "overflow": null,
            "overflow_x": null,
            "overflow_y": null,
            "padding": null,
            "right": null,
            "top": null,
            "visibility": null,
            "width": null
          }
        },
        "b0ef006624da4f59a4d758324cbade94": {
          "model_module": "@jupyter-widgets/controls",
          "model_name": "ProgressStyleModel",
          "model_module_version": "1.5.0",
          "state": {
            "_model_module": "@jupyter-widgets/controls",
            "_model_module_version": "1.5.0",
            "_model_name": "ProgressStyleModel",
            "_view_count": null,
            "_view_module": "@jupyter-widgets/base",
            "_view_module_version": "1.2.0",
            "_view_name": "StyleView",
            "bar_color": null,
            "description_width": ""
          }
        },
        "d355eea8615e48d796add02941186505": {
          "model_module": "@jupyter-widgets/base",
          "model_name": "LayoutModel",
          "model_module_version": "1.2.0",
          "state": {
            "_model_module": "@jupyter-widgets/base",
            "_model_module_version": "1.2.0",
            "_model_name": "LayoutModel",
            "_view_count": null,
            "_view_module": "@jupyter-widgets/base",
            "_view_module_version": "1.2.0",
            "_view_name": "LayoutView",
            "align_content": null,
            "align_items": null,
            "align_self": null,
            "border": null,
            "bottom": null,
            "display": null,
            "flex": null,
            "flex_flow": null,
            "grid_area": null,
            "grid_auto_columns": null,
            "grid_auto_flow": null,
            "grid_auto_rows": null,
            "grid_column": null,
            "grid_gap": null,
            "grid_row": null,
            "grid_template_areas": null,
            "grid_template_columns": null,
            "grid_template_rows": null,
            "height": null,
            "justify_content": null,
            "justify_items": null,
            "left": null,
            "margin": null,
            "max_height": null,
            "max_width": null,
            "min_height": null,
            "min_width": null,
            "object_fit": null,
            "object_position": null,
            "order": null,
            "overflow": null,
            "overflow_x": null,
            "overflow_y": null,
            "padding": null,
            "right": null,
            "top": null,
            "visibility": null,
            "width": null
          }
        },
        "070de6816f62446a99592ae97f846fb4": {
          "model_module": "@jupyter-widgets/controls",
          "model_name": "DescriptionStyleModel",
          "model_module_version": "1.5.0",
          "state": {
            "_model_module": "@jupyter-widgets/controls",
            "_model_module_version": "1.5.0",
            "_model_name": "DescriptionStyleModel",
            "_view_count": null,
            "_view_module": "@jupyter-widgets/base",
            "_view_module_version": "1.2.0",
            "_view_name": "StyleView",
            "description_width": ""
          }
        }
      }
    }
  },
  "nbformat": 4,
  "nbformat_minor": 0
}